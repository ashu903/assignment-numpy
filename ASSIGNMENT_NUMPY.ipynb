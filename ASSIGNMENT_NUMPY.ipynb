{
  "nbformat": 4,
  "nbformat_minor": 0,
  "metadata": {
    "colab": {
      "provenance": []
    },
    "kernelspec": {
      "name": "python3",
      "display_name": "Python 3"
    },
    "language_info": {
      "name": "python"
    }
  },
  "cells": [
    {
      "cell_type": "code",
      "execution_count": 1,
      "metadata": {
        "colab": {
          "base_uri": "https://localhost:8080/"
        },
        "id": "szFRsuRekLU8",
        "outputId": "302b918a-3c54-4bde-fdef-74db1cb66b8a"
      },
      "outputs": [
        {
          "output_type": "stream",
          "name": "stdout",
          "text": [
            "[0 1 2 3 4 5]\n",
            "int64\n"
          ]
        }
      ],
      "source": [
        "# Q1.Create a NumPy array 'arr' of integers from 0 to 5 and print its data type.\n",
        "# Ans>>\n",
        "import numpy as np\n",
        "\n",
        "arr = np.arange(0,6)\n",
        "print(arr)\n",
        "print(arr.dtype)\n"
      ]
    },
    {
      "cell_type": "code",
      "source": [
        "# Q2. Given a NumPy array 'arr', check if its data type is float64.\n",
        "#  arr = np.array([1.5,2.6,3.7])\n",
        "# Ans>> import numpy as np\n",
        "arr = np.array([1.5,2.6,3.7])\n",
        "is_float64 = arr.dtype == np.float64\n",
        "print(is_float64)"
      ],
      "metadata": {
        "colab": {
          "base_uri": "https://localhost:8080/"
        },
        "id": "OU5_LadLlBFr",
        "outputId": "93652edc-f13b-41f3-b048-6016c26ec9da"
      },
      "execution_count": null,
      "outputs": [
        {
          "output_type": "stream",
          "name": "stdout",
          "text": [
            "True\n"
          ]
        }
      ]
    },
    {
      "cell_type": "code",
      "source": [
        "# Q 3.Create a NumPy array 'arr' with a data type of complex128 containing three complex numbers.\n",
        "# Ans>> import numpy as np\n",
        "arr = np.array([4+6j,2+4j,6+12j],dtype=np.complex128)\n",
        "print(arr)\n",
        "print(arr.dtype)"
      ],
      "metadata": {
        "colab": {
          "base_uri": "https://localhost:8080/"
        },
        "id": "qUmYISi4m2b2",
        "outputId": "b1d2dff3-b2fc-4d7b-f1ae-6587511bffa4"
      },
      "execution_count": null,
      "outputs": [
        {
          "output_type": "stream",
          "name": "stdout",
          "text": [
            "[4. +6.j 2. +4.j 6.+12.j]\n",
            "complex128\n"
          ]
        }
      ]
    },
    {
      "cell_type": "code",
      "source": [
        "# Q 4. Convert an existing NumPy array 'arr' of integers to float32 data type.\n",
        "# Ans >> import numpy as np\n",
        "arr = np.array([1, 2, 3, 4, 5])\n",
        "print(arr)\n",
        "print(arr.dtype)\n",
        "arr_float32 = arr.astype(np.float32)\n",
        "print(arr_float32)\n",
        "print(arr_float32.dtype)\n",
        "\n"
      ],
      "metadata": {
        "colab": {
          "base_uri": "https://localhost:8080/"
        },
        "id": "5eG0jeUPoWFD",
        "outputId": "d2912ce0-81da-43fc-baeb-bda082857267"
      },
      "execution_count": null,
      "outputs": [
        {
          "output_type": "stream",
          "name": "stdout",
          "text": [
            "[1 2 3 4 5]\n",
            "int64\n",
            "[1. 2. 3. 4. 5.]\n",
            "float32\n"
          ]
        }
      ]
    },
    {
      "cell_type": "code",
      "source": [
        "# Q 5. Given a NumPy array 'arr' with float64 data type, convert it to float32 to reduce decimal precision.\n",
        "# Ans>>  import numpy as np\n",
        "arr = np.array([1.123456789, 2.123456789, 3.123456789])\n",
        "print(arr)\n",
        "print(arr.dtype)\n",
        "arr_float32 = arr.astype(np.float32)\n",
        "print(arr_float32)\n",
        "print(arr_float32.dtype)"
      ],
      "metadata": {
        "colab": {
          "base_uri": "https://localhost:8080/"
        },
        "id": "tATRjwoFqXiz",
        "outputId": "2cc912d8-ac6d-4afd-d498-76accf99681c"
      },
      "execution_count": null,
      "outputs": [
        {
          "output_type": "stream",
          "name": "stdout",
          "text": [
            "[1.12345679 2.12345679 3.12345679]\n",
            "float64\n",
            "[1.1234568 2.1234567 3.1234567]\n",
            "float32\n"
          ]
        }
      ]
    },
    {
      "cell_type": "code",
      "source": [
        "# Q 6. Write a function array_attributes that takes a NumPy array as input and returns its shape, size, and data type."
      ],
      "metadata": {
        "id": "EGPxUEy9r9Z6"
      },
      "execution_count": null,
      "outputs": []
    },
    {
      "source": [
        "import numpy as np\n",
        "\n",
        "def array_attributes(arr):\n",
        "\n",
        "  shape = arr.shape\n",
        "  size = arr.size\n",
        "  data_type = arr.dtype\n",
        "\n",
        "  return shape, size, data_type\n",
        "arr = np.array([[1, 2, 3], [4, 5, 6]])\n",
        "\n",
        "shape, size, data_type = array_attributes(arr)\n",
        "\n",
        "print(\"Shape:\", shape)\n",
        "print(\"Size:\", size)\n",
        "print(\"Data type:\", data_type)"
      ],
      "cell_type": "code",
      "metadata": {
        "colab": {
          "base_uri": "https://localhost:8080/"
        },
        "id": "qSyabMQsvXKV",
        "outputId": "6a75004f-2dbb-45ee-f4f2-5022972b1181"
      },
      "execution_count": null,
      "outputs": [
        {
          "output_type": "stream",
          "name": "stdout",
          "text": [
            "Shape: (2, 3)\n",
            "Size: 6\n",
            "Data type: int64\n"
          ]
        }
      ]
    },
    {
      "cell_type": "code",
      "source": [
        "# Q 7. Create a function array_dimension that takes a NumPy array as input and returns its dimensionality.\n",
        "# ans >>\n",
        "import numpy as np\n",
        "\n",
        "def array_dimension(arr):\n",
        "    return arr.ndim\n",
        "\n",
        "# Example usage:\n",
        "arr_1d = np.array([1, 2, 3])\n",
        "arr_2d = np.array([[1, 2, 3], [4, 5, 6]])\n",
        "arr_3d = np.array([[[1, 2], [3, 4]], [[5, 6], [7, 8]]])\n",
        "\n",
        "print(\"Dimensionality of arr_1d:\", array_dimension(arr_1d))\n",
        "print(\"Dimensionality of arr_2d:\", array_dimension(arr_2d))\n",
        "print(\"Dimensionality of arr_3d:\", array_dimension(arr_3d))\n",
        "\n",
        "\n"
      ],
      "metadata": {
        "id": "fSVdcUZOvZON",
        "colab": {
          "base_uri": "https://localhost:8080/"
        },
        "outputId": "f7af34ea-7679-4d1d-ba6f-8e5faeb04348"
      },
      "execution_count": null,
      "outputs": [
        {
          "output_type": "stream",
          "name": "stdout",
          "text": [
            "Dimensionality of arr_1d: 1\n",
            "Dimensionality of arr_2d: 2\n",
            "Dimensionality of arr_3d: 3\n"
          ]
        }
      ]
    },
    {
      "cell_type": "code",
      "source": [
        "# Q 8. Design a function item_size_info that takes a NumPy array as input and returns the item size and the total size in bytes.\n",
        "# ans >>\n",
        "import numpy as np\n",
        "\n",
        "def item_size_info(arr):\n",
        "    item_size = arr.itemsize\n",
        "    total_size = item_size * arr.size\n",
        "    return item_size, total_size\n",
        "\n",
        "# Example usage:\n",
        "arr = np.array([[1, 2, 3], [4, 5, 6], [7, 8, 9]])\n",
        "item_size, total_size = item_size_info(arr)\n",
        "print(\"Item size:\", item_size, \"bytes\")\n",
        "print(\"Total size:\", total_size, \"bytes\")\n"
      ],
      "metadata": {
        "colab": {
          "base_uri": "https://localhost:8080/"
        },
        "id": "It7md_Q5pJkC",
        "outputId": "d65baeb0-2424-4c9e-aab8-7c91afff89e4"
      },
      "execution_count": null,
      "outputs": [
        {
          "output_type": "stream",
          "name": "stdout",
          "text": [
            "Item size: 8 bytes\n",
            "Total size: 72 bytes\n"
          ]
        }
      ]
    },
    {
      "cell_type": "code",
      "source": [
        "# Q 9. Create a function array_strides that takes a NumPy array as input and returns the strides of the array.\n",
        "# ans>>\n",
        "import numpy as np\n",
        "\n",
        "def array_strides(arr):\n",
        "    return arr.strides\n",
        "\n",
        "# Example usage:\n",
        "arr = np.array([[1, 2, 3], [4, 5, 6], [7, 8, 9]])\n",
        "print(\"Array strides:\", array_strides(arr))\n"
      ],
      "metadata": {
        "colab": {
          "base_uri": "https://localhost:8080/"
        },
        "id": "mYMncygXqkRH",
        "outputId": "877217ed-e2b9-4688-bc98-886104dcd494"
      },
      "execution_count": null,
      "outputs": [
        {
          "output_type": "stream",
          "name": "stdout",
          "text": [
            "Array strides: (24, 8)\n"
          ]
        }
      ]
    },
    {
      "cell_type": "code",
      "source": [
        "# Q 10. Design a function shape_stride_relationship that takes a NumPy array as input and returns the shape and strides of the array.\n",
        "# ans>>\n",
        "import numpy as np\n",
        "\n",
        "def shape_stride_relationship(arr):\n",
        "    return arr.shape, arr.strides\n",
        "\n",
        "# Example usage:\n",
        "arr = np.array([[1, 2, 3], [4, 5, 6], [7, 8, 9]])\n",
        "shape, strides = shape_stride_relationship(arr)\n",
        "print(\"Array shape:\", shape)\n",
        "print(\"Array strides:\", strides)\n",
        "\n"
      ],
      "metadata": {
        "colab": {
          "base_uri": "https://localhost:8080/"
        },
        "id": "vtOatuBlsQVK",
        "outputId": "9183da58-268f-46e5-9c9e-1e0ed001db7a"
      },
      "execution_count": null,
      "outputs": [
        {
          "output_type": "stream",
          "name": "stdout",
          "text": [
            "Array shape: (3, 3)\n",
            "Array strides: (24, 8)\n"
          ]
        }
      ]
    },
    {
      "cell_type": "code",
      "source": [
        "# Q 11. Create a function `create_zeros_array` that takes an integer `n` as input and returns a NumPy array of zeros with `n` elements.\n",
        "# Ans>>\n",
        "import numpy as np\n",
        "\n",
        "def create_zeros_array(n):\n",
        "    return np.zeros(n)\n",
        "\n",
        "print(create_zeros_array(5))\n"
      ],
      "metadata": {
        "id": "YYCmKMc4ti2s",
        "colab": {
          "base_uri": "https://localhost:8080/"
        },
        "outputId": "ef484297-5245-46b9-c360-ec09000ed28f"
      },
      "execution_count": null,
      "outputs": [
        {
          "output_type": "stream",
          "name": "stdout",
          "text": [
            "[0. 0. 0. 0. 0.]\n"
          ]
        }
      ]
    },
    {
      "source": [
        "# Q 12. Write a function `create_ones_matrix` that takes integers `rows` and `cols` as inputs and generates a 2D NumPy array filled with ones of size `rows x cols`.\n",
        "# Ans>>\n",
        "import numpy as np\n",
        "\n",
        "def create_ones_matrix(rows, cols):\n",
        "    return np.ones((rows, cols))\n",
        "\n",
        "print(create_ones_matrix(3, 4))\n",
        "\n"
      ],
      "cell_type": "code",
      "metadata": {
        "colab": {
          "base_uri": "https://localhost:8080/"
        },
        "id": "iW3ShDn9bFPZ",
        "outputId": "8b48393a-6a28-48b5-adab-126488d912f7"
      },
      "execution_count": null,
      "outputs": [
        {
          "output_type": "stream",
          "name": "stdout",
          "text": [
            "[[1. 1. 1. 1.]\n",
            " [1. 1. 1. 1.]\n",
            " [1. 1. 1. 1.]]\n"
          ]
        }
      ]
    },
    {
      "cell_type": "code",
      "source": [
        "# Q 13. Write a function `generate_range_array` that takes three integers start, stop, and step as arguments and\n",
        "# creates a NumPy array with a range starting from `start`, ending at stop (exclusive), and with the specified `step`.\n",
        "\n",
        "# Ans >>\n",
        "import numpy as np\n",
        "\n",
        "def generate_range_array(start, stop, step):\n",
        "    return np.arange(start, stop, step)\n",
        "\n",
        "print(generate_range_array(0, 10, 1))\n",
        "print(generate_range_array(0, 10, 2))\n",
        "print(generate_range_array(1, 11, 2))"
      ],
      "metadata": {
        "colab": {
          "base_uri": "https://localhost:8080/"
        },
        "id": "UedtgGdBbWFN",
        "outputId": "bc225056-09e0-4150-bc39-dce9108fa731"
      },
      "execution_count": null,
      "outputs": [
        {
          "output_type": "stream",
          "name": "stdout",
          "text": [
            "[0 1 2 3 4 5 6 7 8 9]\n",
            "[0 2 4 6 8]\n",
            "[1 3 5 7 9]\n"
          ]
        }
      ]
    },
    {
      "cell_type": "code",
      "source": [
        "# Q  14. Design a function `generate_linear_space` that takes two floats `start`, `stop`, and an integer `num` as arguments and generates a NumPy array with num equally\n",
        "#  spaced values between `start` and `stop`\n",
        "\n",
        "# Ans >>\n",
        "import numpy as np\n",
        "\n",
        "def generate_linear_space(start, stop, num):\n",
        "    return np.linspace(start, stop, num)\n",
        "print(generate_linear_space(0, 1, 5))\n"
      ],
      "metadata": {
        "colab": {
          "base_uri": "https://localhost:8080/"
        },
        "id": "BK4v8CoPc-BT",
        "outputId": "53d74327-0f0e-4be2-f21e-e164af0bd26a"
      },
      "execution_count": null,
      "outputs": [
        {
          "output_type": "stream",
          "name": "stdout",
          "text": [
            "[0.   0.25 0.5  0.75 1.  ]\n"
          ]
        }
      ]
    },
    {
      "cell_type": "code",
      "source": [
        "# 15. Create a function `create_identity_matrix` that takes an integer `n` as input and generates a square identity matrix of size `n x n` using `numpy.eye`.\n",
        "# Ans >>\n",
        "import numpy as np\n",
        "\n",
        "def create_identity_matrix(n):\n",
        "    return np.eye(n)\n",
        "\n",
        "print(create_identity_matrix(3))\n"
      ],
      "metadata": {
        "colab": {
          "base_uri": "https://localhost:8080/"
        },
        "id": "IcZ_lCUsf5P7",
        "outputId": "c7144c25-2554-46c1-c65b-c0d312f41df6"
      },
      "execution_count": null,
      "outputs": [
        {
          "output_type": "stream",
          "name": "stdout",
          "text": [
            "[[1. 0. 0.]\n",
            " [0. 1. 0.]\n",
            " [0. 0. 1.]]\n"
          ]
        }
      ]
    },
    {
      "cell_type": "code",
      "source": [
        "# 16 Q. Write a function that takes a Python list and converts it into a NumPy array.\n",
        "# ans >>\n",
        "import numpy as np\n",
        "\n",
        "def list_to_numpy_array(py_list):\n",
        "    np_array = np.array(py_list)\n",
        "    return np_array\n",
        "\n",
        "# Example usage\n",
        "python_list = [1, 2, 3, 4, 5]\n",
        "numpy_array = list_to_numpy_array(python_list)\n",
        "print(numpy_array)\n"
      ],
      "metadata": {
        "id": "BbWS9Irwgd1v",
        "colab": {
          "base_uri": "https://localhost:8080/"
        },
        "outputId": "ffa6e979-8833-4b82-add5-4870ac5cc6c5"
      },
      "execution_count": null,
      "outputs": [
        {
          "output_type": "stream",
          "name": "stdout",
          "text": [
            "[1 2 3 4 5]\n"
          ]
        }
      ]
    },
    {
      "cell_type": "code",
      "source": [
        "# 17 Q.Create a NumPy array and demonstrate the use of `numpy.view` to create a new array object with the same data.\n",
        "# Ans >>\n",
        "import numpy as np\n",
        "\n",
        "# Create a NumPy array\n",
        "original_array = np.array([1, 2, 3, 4, 5])\n",
        "\n",
        "# Create a new array object that views the same data\n",
        "view_array = original_array.view()\n",
        "\n",
        "# Print the original array and the view array\n",
        "print(\"Original array:\", original_array)\n",
        "print(\"View array:\", view_array)\n",
        "\n",
        "# Modify an element in the view array\n",
        "view_array[0] = 99\n",
        "\n",
        "# Print both arrays to show that they share the same data\n",
        "print(\"\\nAfter modifying the view array:\")\n",
        "print(\"Original array:\", original_array)\n",
        "print(\"View array:\", view_array)\n"
      ],
      "metadata": {
        "colab": {
          "base_uri": "https://localhost:8080/"
        },
        "id": "1dAf0Q4EjF_l",
        "outputId": "5691be0e-1921-45ac-9cfb-86a0db0da4e6"
      },
      "execution_count": null,
      "outputs": [
        {
          "output_type": "stream",
          "name": "stdout",
          "text": [
            "Original array: [1 2 3 4 5]\n",
            "View array: [1 2 3 4 5]\n",
            "\n",
            "After modifying the view array:\n",
            "Original array: [99  2  3  4  5]\n",
            "View array: [99  2  3  4  5]\n"
          ]
        }
      ]
    },
    {
      "cell_type": "code",
      "source": [
        "# 18.Q  Write a function that takes two NumPy arrays and concatenates them along a specified axis.\n",
        "# ans >>\n",
        "import numpy as np\n",
        "\n",
        "def concatenate_arrays(array1, array2, axis=0):\n",
        "    concatenated_array = np.concatenate((array1, array2), axis=axis)\n",
        "    return concatenated_array\n",
        "\n",
        "# Example usage\n",
        "array1 = np.array([[1, 2, 3], [4, 5, 6]])\n",
        "array2 = np.array([[7, 8, 9], [10, 11, 12]])\n",
        "\n",
        "# Concatenate along the first axis (rows)\n",
        "concatenated_array_0 = concatenate_arrays(array1, array2, axis=0)\n",
        "print(\"Concatenated along axis 0:\\n\", concatenated_array_0)\n",
        "\n",
        "# Concatenate along the second axis (columns)\n",
        "concatenated_array_1 = concatenate_arrays(array1, array2, axis=1)\n",
        "print(\"\\nConcatenated along axis 1:\\n\", concatenated_array_1)\n"
      ],
      "metadata": {
        "colab": {
          "base_uri": "https://localhost:8080/"
        },
        "id": "q6vaxvWtjuq_",
        "outputId": "c19ecfd6-5088-4a0b-9b1b-fbf1984740f2"
      },
      "execution_count": null,
      "outputs": [
        {
          "output_type": "stream",
          "name": "stdout",
          "text": [
            "Concatenated along axis 0:\n",
            " [[ 1  2  3]\n",
            " [ 4  5  6]\n",
            " [ 7  8  9]\n",
            " [10 11 12]]\n",
            "\n",
            "Concatenated along axis 1:\n",
            " [[ 1  2  3  7  8  9]\n",
            " [ 4  5  6 10 11 12]]\n"
          ]
        }
      ]
    },
    {
      "cell_type": "code",
      "source": [
        "# 19.Q  Create two NumPy arrays with different shapes and concatenate them horizontally using `numpy.concatenate`.\n",
        "# Ans>>\n",
        "import numpy as np\n",
        "\n",
        "# Create two NumPy arrays with different shapes\n",
        "array1 = np.array([[1, 2, 3], [4, 5, 6]])\n",
        "array2 = np.array([[7, 8], [9, 10]])\n",
        "\n",
        "# Ensure the arrays have the same number of rows\n",
        "assert array1.shape[0] == array2.shape[0], \"Arrays must have the same number of rows to concatenate horizontally.\"\n",
        "\n",
        "# Concatenate the arrays horizontally\n",
        "concatenated_array = np.concatenate((array1, array2), axis=1)\n",
        "\n",
        "# Print the concatenated array\n",
        "print(\"Concatenated array (horizontally):\\n\", concatenated_array)\n"
      ],
      "metadata": {
        "colab": {
          "base_uri": "https://localhost:8080/"
        },
        "id": "kPuD-0c_kz85",
        "outputId": "14286423-a531-4105-cee3-af772dfefb3c"
      },
      "execution_count": null,
      "outputs": [
        {
          "output_type": "stream",
          "name": "stdout",
          "text": [
            "Concatenated array (horizontally):\n",
            " [[ 1  2  3  7  8]\n",
            " [ 4  5  6  9 10]]\n"
          ]
        }
      ]
    },
    {
      "cell_type": "code",
      "source": [
        "# 20.Q Write a function that vertically stacks multiple NumPy arrays given as a list\n",
        "# Ans >>\n",
        "import numpy as np\n",
        "\n",
        "def vertical_stack_arrays(array_list):\n",
        "    stacked_array = np.vstack(array_list)\n",
        "    return stacked_array\n",
        "\n",
        "# Example usage\n",
        "array1 = np.array([[1, 2, 3], [4, 5, 6]])\n",
        "array2 = np.array([[7, 8, 9], [10, 11, 12]])\n",
        "array3 = np.array([[13, 14, 15], [16, 17, 18]])\n",
        "\n",
        "# List of arrays to be stacked\n",
        "arrays_to_stack = [array1, array2, array3]\n",
        "\n",
        "# Vertically stack the arrays\n",
        "stacked_array = vertical_stack_arrays(arrays_to_stack)\n",
        "\n",
        "# Print the stacked array\n",
        "print(\"Vertically stacked array:\\n\", stacked_array)\n"
      ],
      "metadata": {
        "colab": {
          "base_uri": "https://localhost:8080/"
        },
        "id": "V7MlLlaHltEH",
        "outputId": "65ba4894-f996-498f-a612-1e706417dae0"
      },
      "execution_count": null,
      "outputs": [
        {
          "output_type": "stream",
          "name": "stdout",
          "text": [
            "Vertically stacked array:\n",
            " [[ 1  2  3]\n",
            " [ 4  5  6]\n",
            " [ 7  8  9]\n",
            " [10 11 12]\n",
            " [13 14 15]\n",
            " [16 17 18]]\n"
          ]
        }
      ]
    },
    {
      "cell_type": "code",
      "source": [
        "# Q.21 Write a Python function using NumPy to create an array of integers within a specified range (inclusive) with a given step size.\n",
        "# ans >.\n",
        "import numpy as np\n",
        "\n",
        "def create_integer_array(start, stop, step):\n",
        "    # Use np.arange() to generate the array, ensuring the stop value is inclusive\n",
        "    return np.arange(start, stop + 1, step)\n",
        "\n",
        "# Example usage\n",
        "start = 1\n",
        "stop = 10\n",
        "step = 2\n",
        "\n",
        "integer_array = create_integer_array(start, stop, step)\n",
        "print(\"Array of integers:\", integer_array)\n"
      ],
      "metadata": {
        "colab": {
          "base_uri": "https://localhost:8080/"
        },
        "id": "1lNvmmjqmRdW",
        "outputId": "e716d03b-3b3e-48dd-f011-3bf8083fd942"
      },
      "execution_count": null,
      "outputs": [
        {
          "output_type": "stream",
          "name": "stdout",
          "text": [
            "Array of integers: [1 3 5 7 9]\n"
          ]
        }
      ]
    },
    {
      "cell_type": "code",
      "source": [
        "# 22.Q Write a Python function using NumPy to generate an array of 10 equally spaced values between 0 and 1\n",
        "# Ans>>\n",
        "import numpy as np\n",
        "\n",
        "def generate_equally_spaced_values(start, stop, num_values):\n",
        "    return np.linspace(start, stop, num_values)\n",
        "\n",
        "# Example usage\n",
        "start = 0\n",
        "stop = 1\n",
        "num_values = 10\n",
        "\n",
        "equally_spaced_values = generate_equally_spaced_values(start, stop, num_values)\n",
        "print(\"Equally spaced values:\", equally_spaced_values)\n"
      ],
      "metadata": {
        "colab": {
          "base_uri": "https://localhost:8080/"
        },
        "id": "63fE1HvOm2ah",
        "outputId": "5e77ed13-dd76-408b-8f43-f6f1ca0c7237"
      },
      "execution_count": null,
      "outputs": [
        {
          "output_type": "stream",
          "name": "stdout",
          "text": [
            "Equally spaced values: [0.         0.11111111 0.22222222 0.33333333 0.44444444 0.55555556\n",
            " 0.66666667 0.77777778 0.88888889 1.        ]\n"
          ]
        }
      ]
    },
    {
      "cell_type": "code",
      "source": [
        "# 23.Q Write a Python function using NumPy to create an array of 5 logarithmically spaced values between 1 and 1000 (inclusive).\n",
        "# Ans>.\n",
        "import numpy as np\n",
        "\n",
        "def generate_logarithmically_spaced_values(start, stop, num_values):\n",
        "    return np.logspace(np.log10(start), np.log10(stop), num_values)\n",
        "\n",
        "# Example usage\n",
        "start = 1\n",
        "stop = 1000\n",
        "num_values = 5\n",
        "\n",
        "logarithmically_spaced_values = generate_logarithmically_spaced_values(start, stop, num_values)\n",
        "print(\"Logarithmically spaced values:\", logarithmically_spaced_values)\n",
        "\n"
      ],
      "metadata": {
        "colab": {
          "base_uri": "https://localhost:8080/"
        },
        "id": "GFmpXMgXnNVZ",
        "outputId": "cd31bd5b-f183-408e-e434-8159400ffb55"
      },
      "execution_count": null,
      "outputs": [
        {
          "output_type": "stream",
          "name": "stdout",
          "text": [
            "Logarithmically spaced values: [   1.            5.62341325   31.6227766   177.827941   1000.        ]\n"
          ]
        }
      ]
    },
    {
      "cell_type": "code",
      "source": [
        "# 24.Q . Create a Pandas DataFrame using a NumPy array that contains 5 rows and 3 columns, where the values are random integers between 1 and 100.\n",
        "# ans>.\n",
        "import numpy as np\n",
        "import pandas as pd\n",
        "\n",
        "def create_random_dataframe(rows, columns, low, high):\n",
        "    # Generate a NumPy array with random integers\n",
        "    random_array = np.random.randint(low, high, size=(rows, columns))\n",
        "\n",
        "    # Create a DataFrame using the random array\n",
        "    df = pd.DataFrame(random_array, columns=[f'Column_{i+1}' for i in range(columns)])\n",
        "\n",
        "    return df\n",
        "\n",
        "# Example usage\n",
        "rows = 5\n",
        "columns = 3\n",
        "low = 1\n",
        "high = 101\n",
        "\n",
        "random_dataframe = create_random_dataframe(rows, columns, low, high)\n",
        "print(random_dataframe)\n"
      ],
      "metadata": {
        "colab": {
          "base_uri": "https://localhost:8080/"
        },
        "id": "L6GVZeqGnnmy",
        "outputId": "f24aa94a-bd1f-4140-a6c6-c8f449feea12"
      },
      "execution_count": null,
      "outputs": [
        {
          "output_type": "stream",
          "name": "stdout",
          "text": [
            "   Column_1  Column_2  Column_3\n",
            "0        15        79        35\n",
            "1        75        74        27\n",
            "2        66        65        41\n",
            "3        51        39        37\n",
            "4        16         9        17\n"
          ]
        }
      ]
    },
    {
      "cell_type": "code",
      "source": [
        "# 25. Q  Write a function that takes a Pandas DataFrame and replaces all negative values in a specific column with zeros. Use NumPy operations within the Pandas DataFrame.\n",
        "import pandas as pd\n",
        "import numpy as np\n",
        "\n",
        "def replace_negatives_with_zero(df, column_name):\n",
        "    # Ensure the column exists in the DataFrame\n",
        "    if column_name in df.columns:\n",
        "        df[column_name] = np.where(df[column_name] < 0, 0, df[column_name])\n",
        "    else:\n",
        "        raise ValueError(f\"Column '{column_name}' does not exist in the DataFrame.\")\n",
        "\n",
        "    return df\n",
        "\n",
        "# Example usage\n",
        "data = {\n",
        "    'A': [1, -2, 3, -4, 5],\n",
        "    'B': [-1, 2, -3, 4, -5],\n",
        "    'C': [10, -20, 30, -40, 50]\n",
        "}\n",
        "df = pd.DataFrame(data)\n",
        "\n",
        "print(\"Original DataFrame:\")\n",
        "print(df)\n",
        "\n",
        "df = replace_negatives_with_zero(df, 'B')\n",
        "\n",
        "print(\"\\nModified DataFrame (with negatives in column 'B' replaced by zeros):\")\n",
        "print(df)\n"
      ],
      "metadata": {
        "colab": {
          "base_uri": "https://localhost:8080/"
        },
        "id": "LzppTSLRoQ5a",
        "outputId": "03a6e0e6-34bd-4d87-a8a0-6bf2c2f0556b"
      },
      "execution_count": null,
      "outputs": [
        {
          "output_type": "stream",
          "name": "stdout",
          "text": [
            "Original DataFrame:\n",
            "   A  B   C\n",
            "0  1 -1  10\n",
            "1 -2  2 -20\n",
            "2  3 -3  30\n",
            "3 -4  4 -40\n",
            "4  5 -5  50\n",
            "\n",
            "Modified DataFrame (with negatives in column 'B' replaced by zeros):\n",
            "   A  B   C\n",
            "0  1  0  10\n",
            "1 -2  2 -20\n",
            "2  3  0  30\n",
            "3 -4  4 -40\n",
            "4  5  0  50\n"
          ]
        }
      ]
    },
    {
      "cell_type": "code",
      "source": [
        "# 26.Q  Access the 3rd element from the given NumPy array.\n",
        "# arr = np.array([10, 20, 30, 40, 50])\n",
        "# Ans>>\n",
        "import numpy as np\n",
        "\n",
        "arr = np.array([10, 20, 30, 40, 50])\n",
        "\n",
        "# Access the 3rd element (index 2)\n",
        "third_element = arr[2]\n",
        "\n",
        "print(\"3rd element of the array:\", third_element)\n"
      ],
      "metadata": {
        "colab": {
          "base_uri": "https://localhost:8080/"
        },
        "id": "l9B_cOnBpAFO",
        "outputId": "7318a86c-06b5-44e5-d443-8690c23c1387"
      },
      "execution_count": null,
      "outputs": [
        {
          "output_type": "stream",
          "name": "stdout",
          "text": [
            "3rd element of the array: 30\n"
          ]
        }
      ]
    },
    {
      "cell_type": "code",
      "source": [
        "#27.Q Retrieve the element at index (1, 2) from the 2D NumPy array\n",
        "# arr_2d = np.array([[1, 2, 3],\n",
        "#                [4, 5, 6],\n",
        "#                [7, 8, 9]])\n",
        "# ans>.\n",
        "import numpy as np\n",
        "\n",
        "arr_2d = np.array([[1, 2, 3],\n",
        "                    [4, 5, 6],\n",
        "                    [7, 8, 9]])\n",
        "\n",
        "# Access the element at index (1, 2)\n",
        "element_at_index_1_2 = arr_2d[1, 2]\n",
        "\n",
        "print(\"Element at index (1, 2):\", element_at_index_1_2)\n",
        "\n",
        "\n"
      ],
      "metadata": {
        "colab": {
          "base_uri": "https://localhost:8080/"
        },
        "id": "CY9K0Exdps7u",
        "outputId": "6c5270da-f959-4d41-fa81-386e9ef9a3fe"
      },
      "execution_count": null,
      "outputs": [
        {
          "output_type": "stream",
          "name": "stdout",
          "text": [
            "Element at index (1, 2): 6\n"
          ]
        }
      ]
    },
    {
      "cell_type": "code",
      "source": [
        "# 28. Q Using boolean indexing, extract elements greater than 5 from the given NumPy array.\n",
        "# arr = np.array([3, 8, 2, 10, 5, 7])\n",
        "# ans>>\n",
        "import numpy as np\n",
        "\n",
        "arr = np.array([3, 8, 2, 10, 5, 7])\n",
        "\n",
        "# Create a boolean mask to identify elements greater than 5\n",
        "mask = arr > 5\n",
        "\n",
        "# Use the boolean mask to extract elements greater than 5\n",
        "elements_greater_than_5 = arr[mask]\n",
        "\n",
        "print(\"Elements greater than 5:\", elements_greater_than_5)\n",
        "\n"
      ],
      "metadata": {
        "colab": {
          "base_uri": "https://localhost:8080/"
        },
        "id": "0-dFrRn1qnRs",
        "outputId": "1943d386-eafe-472d-fab0-a14192342cf5"
      },
      "execution_count": null,
      "outputs": [
        {
          "output_type": "stream",
          "name": "stdout",
          "text": [
            "Elements greater than 5: [ 8 10  7]\n"
          ]
        }
      ]
    },
    {
      "cell_type": "code",
      "source": [
        "# 29. Q Perform basic slicing to extract elements from index 2 to 5 (inclusive) from the given NumPy array.\n",
        "# arr = np.array([1, 2, 3, 4, 5, 6, 7, 8, 9])\n",
        "# Ans>>\n",
        "arr = np.array([1, 2, 3, 4, 5, 6, 7, 8, 9])\n",
        "arr[2:6]"
      ],
      "metadata": {
        "colab": {
          "base_uri": "https://localhost:8080/"
        },
        "id": "thQYkJlGxpYb",
        "outputId": "226b3585-d0e9-448e-cee3-2fb046e50518"
      },
      "execution_count": null,
      "outputs": [
        {
          "output_type": "execute_result",
          "data": {
            "text/plain": [
              "array([3, 4, 5, 6])"
            ]
          },
          "metadata": {},
          "execution_count": 19
        }
      ]
    },
    {
      "cell_type": "code",
      "source": [
        "# 30.Q Slice the 2D NumPy array to extract the sub-array `[[2, 3], [5, 6]]` from the given array.\n",
        "# arr_2d = np.array([[1, 2, 3],\n",
        "#                   [4, 5, 6],\n",
        "#                   [7, 8, 9]])\n",
        "# Ans>>\n",
        "import numpy as np\n",
        "\n",
        "arr_2d = np.array([[1, 2, 3],\n",
        "                   [4, 5, 6],\n",
        "                   [7, 8, 9]])\n",
        "\n",
        "# Slice the 2D array to extract the sub-array [[2, 3], [5, 6]]\n",
        "sub_array = arr_2d[0:2, 1:3]\n",
        "\n",
        "print(\"Sub-array [[2, 3], [5, 6]]:\")\n",
        "print(sub_array)\n",
        "\n"
      ],
      "metadata": {
        "colab": {
          "base_uri": "https://localhost:8080/"
        },
        "id": "gnSYVzKQySGn",
        "outputId": "1b37e201-8bea-440a-92b1-df95de39ffaf"
      },
      "execution_count": null,
      "outputs": [
        {
          "output_type": "stream",
          "name": "stdout",
          "text": [
            "Sub-array [[2, 3], [5, 6]]:\n",
            "[[2 3]\n",
            " [5 6]]\n"
          ]
        }
      ]
    },
    {
      "cell_type": "code",
      "source": [
        "# 31.Q Write a NumPy function to extract elements in specific order from a given 2D array based on indices provided in another array.\n",
        "# ans>>\n",
        "import numpy as np\n",
        "\n",
        "def extract_elements_with_indices(arr_2d, indices):\n",
        "    # Flatten the 2D array and then use fancy indexing to extract elements based on indices\n",
        "    return arr_2d.flatten()[indices]\n",
        "\n",
        "# Example usage\n",
        "arr_2d = np.array([[1, 2, 3],\n",
        "                   [4, 5, 6],\n",
        "                   [7, 8, 9]])\n",
        "\n",
        "indices = np.array([4, 1, 6, 2, 7, 5])  # Example indices\n",
        "\n",
        "extracted_elements = extract_elements_with_indices(arr_2d, indices)\n",
        "print(\"Extracted elements based on provided indices:\", extracted_elements)\n"
      ],
      "metadata": {
        "colab": {
          "base_uri": "https://localhost:8080/"
        },
        "id": "d63ozxZYytrn",
        "outputId": "504b5b76-ac34-489f-b4de-584c306cf7f3"
      },
      "execution_count": null,
      "outputs": [
        {
          "output_type": "stream",
          "name": "stdout",
          "text": [
            "Extracted elements based on provided indices: [5 2 7 3 8 6]\n"
          ]
        }
      ]
    },
    {
      "cell_type": "code",
      "source": [
        "# 32.Q Create a NumPy function that filters elements greater than a threshold from a given 1D array using boolean indexing.\n",
        "# Ans>>\n",
        "import numpy as np\n",
        "\n",
        "def filter_elements_greater_than_threshold(arr, threshold):\n",
        "    # Create a boolean mask to identify elements greater than the threshold\n",
        "    mask = arr > threshold\n",
        "\n",
        "    # Use the boolean mask to filter elements\n",
        "    filtered_array = arr[mask]\n",
        "\n",
        "    return filtered_array\n",
        "\n",
        "# Example usage\n",
        "arr = np.array([1, 5, 10, 15, 20, 25])\n",
        "threshold = 10\n",
        "\n",
        "filtered_elements = filter_elements_greater_than_threshold(arr, threshold)\n",
        "print(\"Filtered elements greater than\", threshold, \":\", filtered_elements)\n"
      ],
      "metadata": {
        "colab": {
          "base_uri": "https://localhost:8080/"
        },
        "id": "4roPU7i12g_R",
        "outputId": "45a73618-fc03-4715-c6f7-e0ea1dc6a8fd"
      },
      "execution_count": null,
      "outputs": [
        {
          "output_type": "stream",
          "name": "stdout",
          "text": [
            "Filtered elements greater than 10 : [15 20 25]\n"
          ]
        }
      ]
    },
    {
      "cell_type": "code",
      "source": [
        "# 33.Q Develop a NumPy function that extracts specific elements from a 3D array using indices provided in three separate arrays for each dimension.\n",
        "# ans>>\n",
        "import numpy as np\n",
        "\n",
        "def extract_elements_3d(arr_3d, indices_dim1, indices_dim2, indices_dim3):\n",
        "    # Use the provided indices to extract elements from the 3D array\n",
        "    extracted_elements = arr_3d[indices_dim1, indices_dim2, indices_dim3]\n",
        "\n",
        "    return extracted_elements\n",
        "\n",
        "# Example usage\n",
        "arr_3d = np.array([[[1, 2, 3], [4, 5, 6]],\n",
        "                    [[7, 8, 9], [10, 11, 12]]])\n",
        "\n",
        "indices_dim1 = np.array([0, 1])\n",
        "indices_dim2 = np.array([1, 0])\n",
        "indices_dim3 = np.array([2, 1])\n",
        "\n",
        "extracted_elements = extract_elements_3d(arr_3d, indices_dim1, indices_dim2, indices_dim3)\n",
        "print(\"Extracted elements:\", extracted_elements)\n",
        "\n"
      ],
      "metadata": {
        "colab": {
          "base_uri": "https://localhost:8080/"
        },
        "id": "Bk155HKB2zEr",
        "outputId": "21d27938-bf72-46be-b200-1b71a124c0ce"
      },
      "execution_count": null,
      "outputs": [
        {
          "output_type": "stream",
          "name": "stdout",
          "text": [
            "Extracted elements: [6 8]\n"
          ]
        }
      ]
    },
    {
      "cell_type": "code",
      "source": [
        "# 34.Q  Write a NumPy function that returns elements from an array where both two conditions are satisfied using boolean indexing.\n",
        "# Ans>>\n",
        "import numpy as np\n",
        "\n",
        "def filter_elements_with_conditions(arr, condition1, condition2):\n",
        "    # Use boolean indexing to filter elements where both conditions are satisfied\n",
        "    filtered_array = arr[np.logical_and(condition1, condition2)]\n",
        "\n",
        "    return filtered_array\n",
        "\n",
        "# Example usage\n",
        "arr = np.array([1, 2, 3, 4, 5, 6])\n",
        "condition1 = arr > 2\n",
        "condition2 = arr % 2 == 0\n",
        "\n",
        "filtered_elements = filter_elements_with_conditions(arr, condition1, condition2)\n",
        "print(\"Filtered elements satisfying both conditions:\", filtered_elements)\n",
        "\n",
        "\n"
      ],
      "metadata": {
        "colab": {
          "base_uri": "https://localhost:8080/"
        },
        "id": "TuDQK47O3LHy",
        "outputId": "c2429ba4-9240-45b0-bd6d-ac694791b611"
      },
      "execution_count": null,
      "outputs": [
        {
          "output_type": "stream",
          "name": "stdout",
          "text": [
            "Filtered elements satisfying both conditions: [4 6]\n"
          ]
        }
      ]
    },
    {
      "cell_type": "code",
      "source": [
        "# 35.Q Create a NumPy function that extracts elements from a 2D array using row and column indices provided in separate arrays.\n",
        "# ans>>\n",
        "import numpy as np\n",
        "\n",
        "def extract_elements_2d(arr_2d, row_indices, col_indices):\n",
        "    # Use the provided row and column indices to extract elements from the 2D array\n",
        "    extracted_elements = arr_2d[row_indices, col_indices]\n",
        "\n",
        "    return extracted_elements\n",
        "\n",
        "# Example usage\n",
        "arr_2d = np.array([[1, 2, 3],\n",
        "                   [4, 5, 6],\n",
        "                   [7, 8, 9]])\n",
        "\n",
        "row_indices = np.array([0, 1, 2])\n",
        "col_indices = np.array([1, 0, 2])\n",
        "\n",
        "extracted_elements = extract_elements_2d(arr_2d, row_indices, col_indices)\n",
        "print(\"Extracted elements:\", extracted_elements)\n"
      ],
      "metadata": {
        "colab": {
          "base_uri": "https://localhost:8080/"
        },
        "id": "rKF1Ny3q5KIT",
        "outputId": "5799a0a1-8ede-40a7-f249-79fb516b534b"
      },
      "execution_count": null,
      "outputs": [
        {
          "output_type": "stream",
          "name": "stdout",
          "text": [
            "Extracted elements: [2 4 9]\n"
          ]
        }
      ]
    },
    {
      "cell_type": "code",
      "source": [
        "# 36.Q Given an array arr of shape (3, 3), add a scalar value of 5 to each element using NumPy broadcasting.\n",
        "# ans>>>\n",
        "import numpy as np\n",
        "\n",
        "# Create a 3x3 array\n",
        "arr = np.array([[1, 2, 3],\n",
        "                [4, 5, 6],\n",
        "                [7, 8, 9]])\n",
        "\n",
        "# Add a scalar value of 5 to each element using broadcasting\n",
        "result = arr + 5\n",
        "\n",
        "print(\"Original array:\")\n",
        "print(arr)\n",
        "print(\"\\nArray after adding 5 to each element:\")\n",
        "print(result)\n"
      ],
      "metadata": {
        "colab": {
          "base_uri": "https://localhost:8080/"
        },
        "id": "kRWA7Exq5nXg",
        "outputId": "11ea13b8-a8f0-47db-8e20-2b0278ebe461"
      },
      "execution_count": null,
      "outputs": [
        {
          "output_type": "stream",
          "name": "stdout",
          "text": [
            "Original array:\n",
            "[[1 2 3]\n",
            " [4 5 6]\n",
            " [7 8 9]]\n",
            "\n",
            "Array after adding 5 to each element:\n",
            "[[ 6  7  8]\n",
            " [ 9 10 11]\n",
            " [12 13 14]]\n"
          ]
        }
      ]
    },
    {
      "cell_type": "code",
      "source": [
        "# 37.Q Consider two arrays arr1 of shape (1, 3) and arr2 of shape (3, 4). Multiply each row of arr2 by the corresponding element in arr1 using NumPy broadcasting.\n",
        "# ans>>\n",
        "import numpy as np\n",
        "\n",
        "# Create arr1 and arr2\n",
        "arr1 = np.random.randint(1, 10, size=(1, 3))\n",
        "arr2 = np.random.randint(1, 10, size=(3, 4))\n",
        "\n",
        "# Print original arrays\n",
        "print(\"arr1:\")\n",
        "print(arr1)\n",
        "print(\"arr2:\")\n",
        "print(arr2)\n",
        "\n",
        "# Reshape arr1 to (3, 1) to broadcast across the rows of arr2\n",
        "arr1_reshaped = arr1.reshape(3, 1)\n",
        "\n",
        "# Perform the multiplication using broadcasting\n",
        "result = arr2 * arr1_reshaped\n",
        "\n",
        "# Print the result\n",
        "print(\"Result of multiplying each row of arr2 by the corresponding element in arr1:\")\n",
        "print(result)\n",
        "\n",
        "\n"
      ],
      "metadata": {
        "colab": {
          "base_uri": "https://localhost:8080/"
        },
        "id": "naJI9esx54zX",
        "outputId": "e868eba4-a369-4b23-fe5a-1d6e00120e99"
      },
      "execution_count": 6,
      "outputs": [
        {
          "output_type": "stream",
          "name": "stdout",
          "text": [
            "arr1:\n",
            "[[9 5 6]]\n",
            "arr2:\n",
            "[[7 7 1 7]\n",
            " [6 1 3 1]\n",
            " [1 9 1 2]]\n",
            "Result of multiplying each row of arr2 by the corresponding element in arr1:\n",
            "[[63 63  9 63]\n",
            " [30  5 15  5]\n",
            " [ 6 54  6 12]]\n"
          ]
        }
      ]
    },
    {
      "cell_type": "code",
      "source": [
        "# 38.Q  Given a 1D array arr1 of shape (1, 4) and a 2D array arr2 of shape (4, 3), add arr1 to each row of arr2 using NumPy broadcasting.\n",
        "# ans>>\n",
        "import numpy as np\n",
        "\n",
        "# Create arr1 and arr2\n",
        "arr1 = np.random.randint(0, 10, size=(1, 4))\n",
        "arr2 = np.random.randint(0, 10, size=(4, 3))\n",
        "\n",
        "# Print original arrays\n",
        "print(\"arr1:\")\n",
        "print(arr1)\n",
        "print(\"arr2:\")\n",
        "print(arr2)\n",
        "\n",
        "# Transpose arr2 to make the shapes compatible for broadcasting\n",
        "arr2_transposed = arr2.T\n",
        "\n",
        "# Add arr1 to each column of arr2_transposed (effectively adding to each row of arr2)\n",
        "result_transposed = arr2_transposed + arr1\n",
        "\n",
        "# Transpose the result back to original shape\n",
        "result = result_transposed.T\n",
        "\n",
        "# Print the result\n",
        "print(\"Result of adding arr1 to each row of arr2:\")\n",
        "print(result)\n"
      ],
      "metadata": {
        "colab": {
          "base_uri": "https://localhost:8080/"
        },
        "id": "sgYfg8EO6Mqf",
        "outputId": "2e00ec2d-137a-4647-c140-48ac8ae1b121"
      },
      "execution_count": 5,
      "outputs": [
        {
          "output_type": "stream",
          "name": "stdout",
          "text": [
            "arr1:\n",
            "[[1 8 4 5]]\n",
            "arr2:\n",
            "[[6 4 1]\n",
            " [5 6 5]\n",
            " [0 4 9]\n",
            " [2 6 8]]\n",
            "Result of adding arr1 to each row of arr2:\n",
            "[[ 7  5  2]\n",
            " [13 14 13]\n",
            " [ 4  8 13]\n",
            " [ 7 11 13]]\n"
          ]
        }
      ]
    },
    {
      "cell_type": "code",
      "source": [
        "# 39 Q Consider two arrays arr1 of shape (3, 1) and arr2 of shape (1, 3). Add these arrays using NumPy broadcasting.\n",
        "# ans>>\n",
        "import numpy as np\n",
        "\n",
        "# Create arr1 of shape (3, 1) and arr2 of shape (1, 3)\n",
        "arr1 = np.array([[1],\n",
        "                  [2],\n",
        "                  [3]])\n",
        "arr2 = np.array([[4, 5, 6]])\n",
        "\n",
        "# Perform element-wise addition using broadcasting\n",
        "result = arr1 + arr2\n",
        "\n",
        "print(\"arr1:\")\n",
        "print(arr1)\n",
        "print(\"\\narr2:\")\n",
        "print(arr2)\n",
        "print(\"\\nResult of element-wise addition:\")\n",
        "print(result)\n"
      ],
      "metadata": {
        "colab": {
          "base_uri": "https://localhost:8080/"
        },
        "id": "_bl5JIq88MyK",
        "outputId": "54e34afd-5acd-4ca5-c130-3de976a9cb1e"
      },
      "execution_count": null,
      "outputs": [
        {
          "output_type": "stream",
          "name": "stdout",
          "text": [
            "arr1:\n",
            "[[1]\n",
            " [2]\n",
            " [3]]\n",
            "\n",
            "arr2:\n",
            "[[4 5 6]]\n",
            "\n",
            "Result of element-wise addition:\n",
            "[[5 6 7]\n",
            " [6 7 8]\n",
            " [7 8 9]]\n"
          ]
        }
      ]
    },
    {
      "cell_type": "code",
      "source": [
        "# 40.Q Given arrays arr1 of shape (2, 3) and arr2 of shape (2, 2), perform multiplication using NumPy broadcasting. Handle the shape incompatibility.\n",
        "# ans>>\n",
        "import numpy as np\n",
        "\n",
        "# Create arr1 and arr2\n",
        "arr1 = np.random.randint(0, 10, size=(2, 3))\n",
        "arr2 = np.random.randint(0, 10, size=(2, 2))\n",
        "\n",
        "# Print original arrays\n",
        "print(\"arr1:\")\n",
        "print(arr1)\n",
        "print(\"arr2:\")\n",
        "print(arr2)\n",
        "\n",
        "# Expand arr2 to shape (2, 3) by repeating the last column\n",
        "arr2_expanded = np.hstack([arr2, arr2[:, -1].reshape(2, 1)])\n",
        "\n",
        "# Print expanded arr2\n",
        "print(\"Expanded arr2:\")\n",
        "print(arr2_expanded)\n",
        "\n",
        "# Perform element-wise multiplication using broadcasting\n",
        "result = arr1 * arr2_expanded\n",
        "\n",
        "# Print the result\n",
        "print(\"Result of element-wise multiplication:\")\n",
        "print(result)\n",
        "\n"
      ],
      "metadata": {
        "colab": {
          "base_uri": "https://localhost:8080/"
        },
        "id": "Fzlaa3TZ8dn9",
        "outputId": "0b8f9a7e-681b-4b51-80d6-3433e23686d7"
      },
      "execution_count": 4,
      "outputs": [
        {
          "output_type": "stream",
          "name": "stdout",
          "text": [
            "arr1:\n",
            "[[7 4 7]\n",
            " [3 7 2]]\n",
            "arr2:\n",
            "[[2 1]\n",
            " [1 5]]\n",
            "Expanded arr2:\n",
            "[[2 1 1]\n",
            " [1 5 5]]\n",
            "Result of element-wise multiplication:\n",
            "[[14  4  7]\n",
            " [ 3 35 10]]\n"
          ]
        }
      ]
    },
    {
      "cell_type": "code",
      "source": [
        "# 41.Q Calculate column wise mean for the given array:\n",
        "# arr = np.array([[1, 2, 3], [4, 5, 6]])\n",
        "# Ans>>\n",
        "import numpy as np\n",
        "\n",
        "# Given array\n",
        "arr = np.array([[1, 2, 3],\n",
        "                [4, 5, 6]])\n",
        "\n",
        "# Calculate column-wise mean\n",
        "column_means = np.mean(arr, axis=0)\n",
        "\n",
        "print(\"Array:\")\n",
        "print(arr)\n",
        "print(\"\\nColumn-wise mean:\")\n",
        "print(column_means)\n"
      ],
      "metadata": {
        "colab": {
          "base_uri": "https://localhost:8080/"
        },
        "id": "cOC4ytsx9BDn",
        "outputId": "4908130d-1229-4d56-ba9f-3b2a56912c5d"
      },
      "execution_count": null,
      "outputs": [
        {
          "output_type": "stream",
          "name": "stdout",
          "text": [
            "Array:\n",
            "[[1 2 3]\n",
            " [4 5 6]]\n",
            "\n",
            "Column-wise mean:\n",
            "[2.5 3.5 4.5]\n"
          ]
        }
      ]
    },
    {
      "cell_type": "code",
      "source": [
        "# 42.Q Find maximum value in each row of the given array:\n",
        "# arr = np.array([[1, 2, 3], [4, 5, 6]])\n",
        "# ans>>\n",
        "import numpy as np\n",
        "\n",
        "# Given array\n",
        "arr = np.array([[1, 2, 3],\n",
        "                [4, 5, 6]])\n",
        "\n",
        "# Find maximum value in each row\n",
        "max_in_each_row = np.max(arr, axis=1)\n",
        "\n",
        "print(\"Array:\")\n",
        "print(arr)\n",
        "print(\"\\nMaximum value in each row:\")\n",
        "print(max_in_each_row)\n"
      ],
      "metadata": {
        "colab": {
          "base_uri": "https://localhost:8080/"
        },
        "id": "koDPThba9vMQ",
        "outputId": "a2ba927a-1693-450d-9731-fcd00c7fd2b5"
      },
      "execution_count": null,
      "outputs": [
        {
          "output_type": "stream",
          "name": "stdout",
          "text": [
            "Array:\n",
            "[[1 2 3]\n",
            " [4 5 6]]\n",
            "\n",
            "Maximum value in each row:\n",
            "[3 6]\n"
          ]
        }
      ]
    },
    {
      "cell_type": "code",
      "source": [
        "# 43.Q  For the given array, find indices of maximum value in each column.\n",
        "# arr = np.array([[1, 2, 3], [4, 5, 6]])\n",
        "# ans>>\n",
        "import numpy as np\n",
        "\n",
        "# Given array\n",
        "arr = np.array([[1, 2, 3],\n",
        "                [4, 5, 6]])\n",
        "\n",
        "# Find indices of maximum value in each column\n",
        "max_indices_in_each_column = np.argmax(arr, axis=0)\n",
        "\n",
        "print(\"Array:\")\n",
        "print(arr)\n",
        "print(\"\\nIndices of maximum value in each column:\")\n",
        "print(max_indices_in_each_column)\n",
        "\n"
      ],
      "metadata": {
        "colab": {
          "base_uri": "https://localhost:8080/"
        },
        "id": "UhkBBVdl-EPd",
        "outputId": "6e1276e4-8ff1-4708-c230-1163201cc45c"
      },
      "execution_count": null,
      "outputs": [
        {
          "output_type": "stream",
          "name": "stdout",
          "text": [
            "Array:\n",
            "[[1 2 3]\n",
            " [4 5 6]]\n",
            "\n",
            "Indices of maximum value in each column:\n",
            "[1 1 1]\n"
          ]
        }
      ]
    },
    {
      "cell_type": "code",
      "source": [
        "# 44.Q For the given array, apply custom function to calculate moving sum along rows.\n",
        "# arr = np.array([[1, 2, 3], [4, 5, 6]])\n",
        "# ans>>\n",
        "import numpy as np\n",
        "\n",
        "# Given array\n",
        "arr = np.array([[1, 2, 3],\n",
        "                [4, 5, 6]])\n",
        "\n",
        "# Custom function to calculate moving sum along rows\n",
        "def moving_sum(row):\n",
        "    return np.convolve(row, np.ones(2), mode='valid')\n",
        "\n",
        "# Apply the custom function along rows\n",
        "moving_sum_result = np.apply_along_axis(moving_sum, axis=1, arr=arr)\n",
        "\n",
        "print(\"Array:\")\n",
        "print(arr)\n",
        "print(\"\\nMoving sum along rows:\")\n",
        "print(moving_sum_result)\n"
      ],
      "metadata": {
        "colab": {
          "base_uri": "https://localhost:8080/"
        },
        "id": "U1l_X0Wp-bv6",
        "outputId": "0d01be67-6bda-41e9-8ff1-caa90ca1f3d2"
      },
      "execution_count": null,
      "outputs": [
        {
          "output_type": "stream",
          "name": "stdout",
          "text": [
            "Array:\n",
            "[[1 2 3]\n",
            " [4 5 6]]\n",
            "\n",
            "Moving sum along rows:\n",
            "[[ 3.  5.]\n",
            " [ 9. 11.]]\n"
          ]
        }
      ]
    },
    {
      "cell_type": "code",
      "source": [
        "# 45.Q  In the given array, check if all elements in each column are even.\n",
        "# arr = np.array([[2, 4, 6], [3, 5, 7]])\n",
        "# ans>>\n",
        "import numpy as np\n",
        "\n",
        "# Given array\n",
        "arr = np.array([[2, 4, 6],\n",
        "                [3, 5, 7]])\n",
        "\n",
        "# Check if all elements in each column are even\n",
        "are_all_even = np.all(arr % 2 == 0, axis=0)\n",
        "\n",
        "print(\"Array:\")\n",
        "print(arr)\n",
        "print(\"\\nAre all elements in each column even?\")\n",
        "print(are_all_even)\n"
      ],
      "metadata": {
        "colab": {
          "base_uri": "https://localhost:8080/"
        },
        "id": "TdXYdFul-tMR",
        "outputId": "43235ac4-6cf5-4c21-b010-8633897935ee"
      },
      "execution_count": null,
      "outputs": [
        {
          "output_type": "stream",
          "name": "stdout",
          "text": [
            "Array:\n",
            "[[2 4 6]\n",
            " [3 5 7]]\n",
            "\n",
            "Are all elements in each column even?\n",
            "[False False False]\n"
          ]
        }
      ]
    },
    {
      "cell_type": "code",
      "source": [
        "# 46.Q  Given a NumPy array arr, reshape it into a matrix of dimensions `m` rows and `n` columns. Return the reshaped matrix.\n",
        "# original_array = np.array([1, 2, 3, 4, 5, 6])\n",
        "#ans>>\n",
        "import numpy as np\n",
        "\n",
        "def reshape_array(original_array, m, n):\n",
        "    reshaped_matrix = np.reshape(original_array, (m, n))\n",
        "    return reshaped_matrix\n",
        "\n",
        "# Given NumPy array\n",
        "original_array = np.array([1, 2, 3, 4, 5, 6])\n",
        "\n",
        "# Reshape the array into a matrix of dimensions m rows and n columns\n",
        "m = 2  # Number of rows\n",
        "n = 3  # Number of columns\n",
        "reshaped_matrix = reshape_array(original_array, m, n)\n",
        "\n",
        "print(\"Original array:\")\n",
        "print(original_array)\n",
        "print(\"\\nReshaped matrix:\")\n",
        "print(reshaped_matrix)\n"
      ],
      "metadata": {
        "colab": {
          "base_uri": "https://localhost:8080/"
        },
        "id": "0LayokgN_SVI",
        "outputId": "ae6036a8-fa4d-43de-863a-107240c5fe67"
      },
      "execution_count": null,
      "outputs": [
        {
          "output_type": "stream",
          "name": "stdout",
          "text": [
            "Original array:\n",
            "[1 2 3 4 5 6]\n",
            "\n",
            "Reshaped matrix:\n",
            "[[1 2 3]\n",
            " [4 5 6]]\n"
          ]
        }
      ]
    },
    {
      "cell_type": "code",
      "source": [
        "# 47.Q Create a function that takes a matrix as input and returns the flattened array.\n",
        "# input_matrix = np.array([[1, 2, 3], [4, 5, 6]])\n",
        "#ans>>\n",
        "import numpy as np\n",
        "\n",
        "def flatten_matrix(input_matrix):\n",
        "    flattened_array = input_matrix.flatten()  # or input_matrix.ravel()\n",
        "    return flattened_array\n",
        "\n",
        "# Given input matrix\n",
        "input_matrix = np.array([[1, 2, 3],\n",
        "                         [4, 5, 6]])\n",
        "\n",
        "# Flatten the input matrix\n",
        "flattened_array = flatten_matrix(input_matrix)\n",
        "\n",
        "print(\"Input matrix:\")\n",
        "print(input_matrix)\n",
        "print(\"\\nFlattened array:\")\n",
        "print(flattened_array)\n"
      ],
      "metadata": {
        "colab": {
          "base_uri": "https://localhost:8080/"
        },
        "id": "jv8NOBSJ_x2B",
        "outputId": "4367167e-b1ff-4e3b-835f-552f90b0d6ce"
      },
      "execution_count": null,
      "outputs": [
        {
          "output_type": "stream",
          "name": "stdout",
          "text": [
            "Input matrix:\n",
            "[[1 2 3]\n",
            " [4 5 6]]\n",
            "\n",
            "Flattened array:\n",
            "[1 2 3 4 5 6]\n"
          ]
        }
      ]
    },
    {
      "cell_type": "code",
      "source": [
        "# 48.Q Write a function that concatenates two given arrays along a specified axis.\n",
        "# array1 = np.array([[1, 2], [3, 4]])\n",
        "# array2 = np.array([[5, 6], [7, 8]])\n",
        "#ans>>\n",
        "import numpy as np\n",
        "\n",
        "def concatenate_arrays(array1, array2, axis=0):\n",
        "    concatenated_array = np.concatenate((array1, array2), axis=axis)\n",
        "    return concatenated_array\n",
        "\n",
        "# Given arrays\n",
        "array1 = np.array([[1, 2],\n",
        "                   [3, 4]])\n",
        "array2 = np.array([[5, 6],\n",
        "                   [7, 8]])\n",
        "\n",
        "# Concatenate the arrays along the default axis (axis=0)\n",
        "concatenated_array_axis0 = concatenate_arrays(array1, array2)\n",
        "\n",
        "# Concatenate the arrays along the specified axis (axis=1)\n",
        "concatenated_array_axis1 = concatenate_arrays(array1, array2, axis=1)\n",
        "\n",
        "print(\"Array 1:\")\n",
        "print(array1)\n",
        "print(\"\\nArray 2:\")\n",
        "print(array2)\n",
        "print(\"\\nConcatenated array along axis 0:\")\n",
        "print(concatenated_array_axis0)\n",
        "print(\"\\nConcatenated array along axis 1:\")\n",
        "print(concatenated_array_axis1)\n"
      ],
      "metadata": {
        "colab": {
          "base_uri": "https://localhost:8080/"
        },
        "id": "ybxxSaZXACXw",
        "outputId": "eccb186c-7dd8-459c-95e0-6ee50c43d124"
      },
      "execution_count": null,
      "outputs": [
        {
          "output_type": "stream",
          "name": "stdout",
          "text": [
            "Array 1:\n",
            "[[1 2]\n",
            " [3 4]]\n",
            "\n",
            "Array 2:\n",
            "[[5 6]\n",
            " [7 8]]\n",
            "\n",
            "Concatenated array along axis 0:\n",
            "[[1 2]\n",
            " [3 4]\n",
            " [5 6]\n",
            " [7 8]]\n",
            "\n",
            "Concatenated array along axis 1:\n",
            "[[1 2 5 6]\n",
            " [3 4 7 8]]\n"
          ]
        }
      ]
    },
    {
      "cell_type": "code",
      "source": [
        "# 49.Q . Create a function that splits an array into multiple sub-arrays along a specified axis.\n",
        "# original_array = np.array([[1, 2, 3], [4, 5, 6], [7, 8, 9]])\n",
        "# ans>>\n",
        "import numpy as np\n",
        "\n",
        "def split_array(original_array, num_splits, axis=0):\n",
        "    sub_arrays = np.split(original_array, num_splits, axis=axis)\n",
        "    return sub_arrays\n",
        "\n",
        "# Given original array\n",
        "original_array = np.array([[1, 2, 3],\n",
        "                            [4, 5, 6],\n",
        "                            [7, 8, 9]])\n",
        "\n",
        "# Split the original array into multiple sub-arrays along the default axis (axis=0)\n",
        "num_splits = 3\n",
        "sub_arrays_axis0 = split_array(original_array, num_splits)\n",
        "\n",
        "# Split the original array into multiple sub-arrays along the specified axis (axis=1)\n",
        "sub_arrays_axis1 = split_array(original_array, num_splits, axis=1)\n",
        "\n",
        "print(\"Original array:\")\n",
        "print(original_array)\n",
        "print(\"\\nSub-arrays along axis 0:\")\n",
        "for sub_array in sub_arrays_axis0:\n",
        "    print(sub_array)\n",
        "print(\"\\nSub-arrays along axis 1:\")\n",
        "for sub_array in sub_arrays_axis1:\n",
        "    print(sub_array)\n"
      ],
      "metadata": {
        "colab": {
          "base_uri": "https://localhost:8080/"
        },
        "id": "kqQT3frJBDvH",
        "outputId": "33d61947-23de-417e-b2b4-7969b416e2fd"
      },
      "execution_count": null,
      "outputs": [
        {
          "output_type": "stream",
          "name": "stdout",
          "text": [
            "Original array:\n",
            "[[1 2 3]\n",
            " [4 5 6]\n",
            " [7 8 9]]\n",
            "\n",
            "Sub-arrays along axis 0:\n",
            "[[1 2 3]]\n",
            "[[4 5 6]]\n",
            "[[7 8 9]]\n",
            "\n",
            "Sub-arrays along axis 1:\n",
            "[[1]\n",
            " [4]\n",
            " [7]]\n",
            "[[2]\n",
            " [5]\n",
            " [8]]\n",
            "[[3]\n",
            " [6]\n",
            " [9]]\n"
          ]
        }
      ]
    },
    {
      "cell_type": "code",
      "source": [
        "# 50.Q Write a function that inserts and then deletes elements from a given array at specified indices.\n",
        "# original_array = np.array([1, 2, 3, 4, 5])\n",
        "# indices_to_insert = [2, 4]\n",
        "# values_to_insert = [10, 11]\n",
        "# indices_to_delete = [1, 3]\n",
        "#ans>>\n",
        "import numpy as np\n",
        "\n",
        "def insert_and_delete_elements(original_array, indices_to_insert, values_to_insert, indices_to_delete):\n",
        "    # Insert elements at specified indices\n",
        "    for index, value in zip(indices_to_insert, values_to_insert):\n",
        "        original_array = np.insert(original_array, index, value)\n",
        "\n",
        "    # Delete elements at specified indices\n",
        "    original_array = np.delete(original_array, indices_to_delete)\n",
        "\n",
        "    return original_array\n",
        "\n",
        "# Given data\n",
        "original_array = np.array([1, 2, 3, 4, 5])\n",
        "indices_to_insert = [2, 4]\n",
        "values_to_insert = [10, 11]\n",
        "indices_to_delete = [1, 3]\n",
        "\n",
        "# Insert and delete elements\n",
        "modified_array = insert_and_delete_elements(original_array, indices_to_insert, values_to_insert, indices_to_delete)\n",
        "\n",
        "print(\"Original array:\")\n",
        "print(original_array)\n",
        "print(\"\\nModified array:\")\n",
        "print(modified_array)\n"
      ],
      "metadata": {
        "colab": {
          "base_uri": "https://localhost:8080/"
        },
        "id": "_sg2iIc1B8pq",
        "outputId": "d8764024-2af2-44a5-8bcd-7c0c0dcf93e2"
      },
      "execution_count": null,
      "outputs": [
        {
          "output_type": "stream",
          "name": "stdout",
          "text": [
            "Original array:\n",
            "[1 2 3 4 5]\n",
            "\n",
            "Modified array:\n",
            "[ 1 10 11  4  5]\n"
          ]
        }
      ]
    },
    {
      "cell_type": "code",
      "source": [
        "# 51.Q Create a NumPy array `arr1` with random integers and another array `arr2` with integers from 1 to 10. Perform element-wise addition between `arr1` and `arr2`.\n",
        "# Ans>>\n",
        "import numpy as np\n",
        "\n",
        "# Step 2: Create arr1 with random integers\n",
        "arr1 = np.random.randint(0, 100, size=10)  # Random integers between 0 and 99, array of size 10\n",
        "\n",
        "# Step 3: Create arr2 with integers from 1 to 10\n",
        "arr2 = np.arange(1, 11)  # Integers from 1 to 10\n",
        "\n",
        "# Step 4: Perform element-wise addition\n",
        "result = np.add(arr1, arr2)\n",
        "\n",
        "# Print the arrays and the result\n",
        "print(\"arr1:\", arr1)\n",
        "print(\"arr2:\", arr2)\n",
        "print(\"Element-wise addition result:\", result)\n",
        "\n"
      ],
      "metadata": {
        "colab": {
          "base_uri": "https://localhost:8080/"
        },
        "id": "NxAWRDHYCRuC",
        "outputId": "247d41a7-8422-4786-9267-ac3db27f3492"
      },
      "execution_count": 3,
      "outputs": [
        {
          "output_type": "stream",
          "name": "stdout",
          "text": [
            "arr1: [95 30 44 34 54 90 47 79 16 92]\n",
            "arr2: [ 1  2  3  4  5  6  7  8  9 10]\n",
            "Element-wise addition result: [ 96  32  47  38  59  96  54  87  25 102]\n"
          ]
        }
      ]
    },
    {
      "cell_type": "code",
      "source": [
        "# 52.Q . Generate a NumPy array `arr1` with sequential integers from 10 to 1 and another array `arr2` with integers from 1 to 10. Subtract `arr2` from `arr1` element-wise.\n",
        "# ans>>\n",
        "import numpy as np\n",
        "\n",
        "# Create arr1 with sequential integers from 10 to 1\n",
        "arr1 = np.arange(10, 0, -1)\n",
        "\n",
        "# Create arr2 with integers from 1 to 10\n",
        "arr2 = np.arange(1, 11)\n",
        "\n",
        "# Perform element-wise subtraction\n",
        "result = arr1 - arr2\n",
        "\n",
        "# Print the arrays and the result\n",
        "print(\"arr1:\", arr1)\n",
        "print(\"arr2:\", arr2)\n",
        "print(\"Result of subtracting arr2 from arr1:\", result)\n"
      ],
      "metadata": {
        "id": "4Jq7FLs2DXfU",
        "colab": {
          "base_uri": "https://localhost:8080/"
        },
        "outputId": "09489b30-2812-4d52-8d01-bc820d6952c5"
      },
      "execution_count": 7,
      "outputs": [
        {
          "output_type": "stream",
          "name": "stdout",
          "text": [
            "arr1: [10  9  8  7  6  5  4  3  2  1]\n",
            "arr2: [ 1  2  3  4  5  6  7  8  9 10]\n",
            "Result of subtracting arr2 from arr1: [ 9  7  5  3  1 -1 -3 -5 -7 -9]\n"
          ]
        }
      ]
    },
    {
      "cell_type": "code",
      "source": [
        "# 53.Q Create a NumPy array `arr1` with random integers and another array `arr2` with integers from 1 to 5. Perform element-wise multiplication between `arr1` and `arr2`.\n",
        "# ans>>\n",
        "import numpy as np\n",
        "\n",
        "# Create arr1 with random integers\n",
        "arr1 = np.random.randint(1, 10, size=5)  # Random integers between 1 and 9, array of size 5\n",
        "\n",
        "# Create arr2 with integers from 1 to 5\n",
        "arr2 = np.arange(1, 6)\n",
        "\n",
        "# Perform element-wise multiplication\n",
        "result = arr1 * arr2\n",
        "\n",
        "# Print the arrays and the result\n",
        "print(\"arr1:\", arr1)\n",
        "print(\"arr2:\", arr2)\n",
        "print(\"Element-wise multiplication result:\", result)\n"
      ],
      "metadata": {
        "colab": {
          "base_uri": "https://localhost:8080/"
        },
        "id": "4roZSctk-LXA",
        "outputId": "2e8ac5c1-9e33-4a3b-eba3-9dde2c37f9ea"
      },
      "execution_count": 8,
      "outputs": [
        {
          "output_type": "stream",
          "name": "stdout",
          "text": [
            "arr1: [6 8 6 4 5]\n",
            "arr2: [1 2 3 4 5]\n",
            "Element-wise multiplication result: [ 6 16 18 16 25]\n"
          ]
        }
      ]
    },
    {
      "cell_type": "code",
      "source": [
        "# 54.Q. Generate a NumPy array `arr1` with even integers from 2 to 10 and another array `arr2` with integers from 1 to 5. Perform element-wise division of `arr1` by `arr2`.\n",
        "# ans>>\n",
        "import numpy as np\n",
        "\n",
        "# Create arr1 with even integers from 2 to 10\n",
        "arr1 = np.arange(2, 11, 2)  # [2, 4, 6, 8, 10]\n",
        "\n",
        "# Create arr2 with integers from 1 to 5\n",
        "arr2 = np.arange(1, 6)  # [1, 2, 3, 4, 5]\n",
        "\n",
        "# Perform element-wise division\n",
        "result = arr1 / arr2\n",
        "\n",
        "# Print the arrays and the result\n",
        "print(\"arr1:\", arr1)\n",
        "print(\"arr2:\", arr2)\n",
        "print(\"Element-wise division result:\", result)\n"
      ],
      "metadata": {
        "colab": {
          "base_uri": "https://localhost:8080/"
        },
        "id": "FsaulMLm-egt",
        "outputId": "9c95b71f-d9eb-4939-b865-970919bbfd57"
      },
      "execution_count": 9,
      "outputs": [
        {
          "output_type": "stream",
          "name": "stdout",
          "text": [
            "arr1: [ 2  4  6  8 10]\n",
            "arr2: [1 2 3 4 5]\n",
            "Element-wise division result: [2. 2. 2. 2. 2.]\n"
          ]
        }
      ]
    },
    {
      "cell_type": "code",
      "source": [
        "#55.Q Create a NumPy array `arr1` with integers from 1 to 5 and another array `arr2` with the same numbers\n",
        "# reversed. Calculate the exponentiation of `arr1` raised to the power of `arr2` element-wise.\n",
        "# ans>>\n",
        "import numpy as np\n",
        "\n",
        "# Create arr1 with integers from 1 to 5\n",
        "arr1 = np.arange(1, 6)  # [1, 2, 3, 4, 5]\n",
        "\n",
        "# Create arr2 with the same numbers reversed\n",
        "arr2 = arr1[::-1]  # [5, 4, 3, 2, 1]\n",
        "\n",
        "# Perform element-wise exponentiation\n",
        "result = np.power(arr1, arr2)\n",
        "\n",
        "# Print the arrays and the result\n",
        "print(\"arr1:\", arr1)\n",
        "print(\"arr2:\", arr2)\n",
        "print(\"Element-wise exponentiation result:\", result)\n"
      ],
      "metadata": {
        "colab": {
          "base_uri": "https://localhost:8080/"
        },
        "id": "KQ_8wI98-yEF",
        "outputId": "ba793cc6-9f3a-46ee-e9d0-6d635b63ddae"
      },
      "execution_count": 10,
      "outputs": [
        {
          "output_type": "stream",
          "name": "stdout",
          "text": [
            "arr1: [1 2 3 4 5]\n",
            "arr2: [5 4 3 2 1]\n",
            "Element-wise exponentiation result: [ 1 16 27 16  5]\n"
          ]
        }
      ]
    },
    {
      "cell_type": "code",
      "source": [
        "# 56.QWrite a function that counts the occurrences of a specific substring within a NumPy array of strings.\n",
        "# arr = np.array(['hello', 'world', 'hello', 'numpy', 'hello'])\n",
        "# ans>>\n",
        "import numpy as np\n",
        "\n",
        "def count_substring_occurrences(arr, substring):\n",
        "    count = 0\n",
        "    for string in arr:\n",
        "        count += string.count(substring)\n",
        "    return count\n",
        "\n",
        "# Example array\n",
        "arr = np.array(['hello', 'world', 'hello', 'numpy', 'hello'])\n",
        "\n",
        "# Example usage\n",
        "substring = 'hello'\n",
        "result = count_substring_occurrences(arr, substring)\n",
        "print(f\"The substring '{substring}' occurs {result} times in the array.\")\n"
      ],
      "metadata": {
        "colab": {
          "base_uri": "https://localhost:8080/"
        },
        "id": "3rhNHi0m_NQp",
        "outputId": "bbb6a0db-aba4-4916-96fd-9d7cc878acdd"
      },
      "execution_count": 11,
      "outputs": [
        {
          "output_type": "stream",
          "name": "stdout",
          "text": [
            "The substring 'hello' occurs 3 times in the array.\n"
          ]
        }
      ]
    },
    {
      "cell_type": "code",
      "source": [
        "# Q57.Write a function that extracts uppercase characters from a NumPy array of strings.arr = np.array(['Hello', 'World', 'OpenAI', 'GPT'])\n",
        "# arr = np.array(['Hello', 'World', 'OpenAI', 'GPT'])\n",
        "# ans>>\n",
        "import numpy as np\n",
        "\n",
        "def extract_uppercase_characters(arr):\n",
        "    uppercase_characters = []\n",
        "    for string in arr:\n",
        "        for char in string:\n",
        "            if char.isupper():\n",
        "                uppercase_characters.append(char)\n",
        "    return uppercase_characters\n",
        "\n",
        "# Example array\n",
        "arr = np.array(['Hello', 'World', 'OpenAI', 'GPT'])\n",
        "\n",
        "# Example usage\n",
        "result = extract_uppercase_characters(arr)\n",
        "print(\"Uppercase characters extracted:\", result)\n"
      ],
      "metadata": {
        "colab": {
          "base_uri": "https://localhost:8080/"
        },
        "id": "3BGIjJKx_rgx",
        "outputId": "49e70dc3-e612-4263-972e-4215fb83472f"
      },
      "execution_count": 12,
      "outputs": [
        {
          "output_type": "stream",
          "name": "stdout",
          "text": [
            "Uppercase characters extracted: ['H', 'W', 'O', 'A', 'I', 'G', 'P', 'T']\n"
          ]
        }
      ]
    },
    {
      "cell_type": "code",
      "source": [
        "# 58.Q  Write a function that replaces occurrences of a substring in a NumPy array of strings with a new string.\n",
        "# arr = np.array(['apple', 'banana', 'grape', 'pineapple'])\n",
        "# ans>>\n",
        "import numpy as np\n",
        "\n",
        "def replace_substring(arr, old_substring, new_substring):\n",
        "    replaced_array = np.copy(arr)  # Create a copy of the original array to avoid modifying it directly\n",
        "    for i, string in enumerate(replaced_array):\n",
        "        replaced_array[i] = string.replace(old_substring, new_substring)\n",
        "    return replaced_array\n",
        "\n",
        "# Example array\n",
        "arr = np.array(['apple', 'banana', 'grape', 'pineapple'])\n",
        "\n",
        "# Example usage\n",
        "old_substring = 'apple'\n",
        "new_substring = 'orange'\n",
        "result = replace_substring(arr, old_substring, new_substring)\n",
        "print(\"Array after replacement:\", result)\n"
      ],
      "metadata": {
        "colab": {
          "base_uri": "https://localhost:8080/"
        },
        "id": "sMoGkJFTAE8z",
        "outputId": "dda8f6b4-e2a0-4f91-c268-cff7d95e35a5"
      },
      "execution_count": 13,
      "outputs": [
        {
          "output_type": "stream",
          "name": "stdout",
          "text": [
            "Array after replacement: ['orange' 'banana' 'grape' 'pineorang']\n"
          ]
        }
      ]
    },
    {
      "cell_type": "code",
      "source": [
        "# 59.Q  Write a function that concatenates strings in a NumPy array element-wise.\n",
        "# arr1 = np.array(['Hello', 'World'])\n",
        "# arr2 = np.array(['Open', 'AI'])\n",
        "# ans>>\n",
        "import numpy as np\n",
        "\n",
        "def concatenate_strings_element_wise(arr1, arr2):\n",
        "    concatenated_array = np.empty_like(arr1)  # Create an empty array with the same shape as arr1\n",
        "    for i in range(len(arr1)):\n",
        "        concatenated_array[i] = arr1[i] + arr2[i]\n",
        "    return concatenated_array\n",
        "\n",
        "# Example arrays\n",
        "arr1 = np.array(['Hello', 'World'])\n",
        "arr2 = np.array(['Open', 'AI'])\n",
        "\n",
        "# Example usage\n",
        "result = concatenate_strings_element_wise(arr1, arr2)\n",
        "print(\"Concatenated array:\", result)\n"
      ],
      "metadata": {
        "colab": {
          "base_uri": "https://localhost:8080/"
        },
        "id": "XpV59x0HAj2N",
        "outputId": "7cb3a46c-d86c-43ff-f15d-3ca311481811"
      },
      "execution_count": 14,
      "outputs": [
        {
          "output_type": "stream",
          "name": "stdout",
          "text": [
            "Concatenated array: ['Hello' 'World']\n"
          ]
        }
      ]
    },
    {
      "cell_type": "code",
      "source": [
        "# 60.Q Write a function that finds the length of the longest string in a NumPy array.arr = np.array(['apple', 'banana', 'grape', 'pineapple'])\n",
        "# arr = np.array(['apple', 'banana', 'grape', 'pineapple'])\n",
        "# ans>>\n",
        "import numpy as np\n",
        "\n",
        "def longest_string_length(arr):\n",
        "    max_length = 0\n",
        "    for string in arr:\n",
        "        max_length = max(max_length, len(string))\n",
        "    return max_length\n",
        "\n",
        "# Example array\n",
        "arr = np.array(['apple', 'banana', 'grape', 'pineapple'])\n",
        "\n",
        "# Example usage\n",
        "result = longest_string_length(arr)\n",
        "print(\"Length of the longest string:\", result)\n"
      ],
      "metadata": {
        "colab": {
          "base_uri": "https://localhost:8080/"
        },
        "id": "nGGYxcF3DnsU",
        "outputId": "db69aa0f-a893-4021-993b-69a596837664"
      },
      "execution_count": 15,
      "outputs": [
        {
          "output_type": "stream",
          "name": "stdout",
          "text": [
            "Length of the longest string: 9\n"
          ]
        }
      ]
    },
    {
      "cell_type": "code",
      "source": [
        "# 61.Q  Create a dataset of 100 random integers between 1 and 1000. Compute the mean, median, variance, and standard deviation of the dataset using NumPy's functions.\n",
        "# ans>>\n",
        "import numpy as np\n",
        "\n",
        "# Create a dataset of 100 random integers between 1 and 1000\n",
        "dataset = np.random.randint(1, 1001, size=100)\n",
        "\n",
        "# Compute the mean\n",
        "mean = np.mean(dataset)\n",
        "\n",
        "# Compute the median\n",
        "median = np.median(dataset)\n",
        "\n",
        "# Compute the variance\n",
        "variance = np.var(dataset)\n",
        "\n",
        "# Compute the standard deviation\n",
        "std_deviation = np.std(dataset)\n",
        "\n",
        "# Print the results\n",
        "print(\"Dataset:\", dataset)\n",
        "print(\"Mean:\", mean)\n",
        "print(\"Median:\", median)\n",
        "print(\"Variance:\", variance)\n",
        "print(\"Standard Deviation:\", std_deviation)\n"
      ],
      "metadata": {
        "colab": {
          "base_uri": "https://localhost:8080/"
        },
        "id": "xWVrjFGZEHp6",
        "outputId": "c5078c43-d77c-460f-d52e-641c357b9ee1"
      },
      "execution_count": 16,
      "outputs": [
        {
          "output_type": "stream",
          "name": "stdout",
          "text": [
            "Dataset: [861 889 416  19  84 804 271 610 721 504 372 480 154  23 928 346 945 109\n",
            "  70 606 720 215 305 756 242 399  99 252 154  47 681 479 236 234 631 251\n",
            " 733 774 847 636 561 818 935 609 791 417 747 825 226 111 248 896 551 696\n",
            " 279 352 667 301 400 945 837 361 604 712 848 870 695  92 995 189 260 384\n",
            " 992 577  24 379 584  44 484 345 675 895 540 374 446 250 234 858 864 905\n",
            " 647  10 840 715 975 112 916 771   7 626]\n",
            "Mean: 512.14\n",
            "Median: 545.5\n",
            "Variance: 86411.14039999999\n",
            "Standard Deviation: 293.9577187283913\n"
          ]
        }
      ]
    },
    {
      "cell_type": "code",
      "source": [
        "# 62.Q Generate an array of 50 random numbers between 1 and 100. Find the 25th and 75th percentiles of the dataset.\n",
        "# ans>.\n",
        "import numpy as np\n",
        "\n",
        "# Generate an array of 50 random numbers between 1 and 100\n",
        "dataset = np.random.randint(1, 101, size=50)\n",
        "\n",
        "# Find the 25th and 75th percentiles\n",
        "percentile_25 = np.percentile(dataset, 25)\n",
        "percentile_75 = np.percentile(dataset, 75)\n",
        "\n",
        "# Print the percentiles\n",
        "print(\"25th percentile:\", percentile_25)\n",
        "print(\"75th percentile:\", percentile_75)\n"
      ],
      "metadata": {
        "colab": {
          "base_uri": "https://localhost:8080/"
        },
        "id": "JbPIXy3xEjIy",
        "outputId": "e74807bb-55a7-485d-f383-cb91f5edf1ab"
      },
      "execution_count": 17,
      "outputs": [
        {
          "output_type": "stream",
          "name": "stdout",
          "text": [
            "25th percentile: 27.5\n",
            "75th percentile: 68.25\n"
          ]
        }
      ]
    },
    {
      "cell_type": "code",
      "source": [
        "# Q 63.Q Create two arrays representing two sets of variables. Compute the correlation coefficient between these arrays using NumPy's `corrcoef` function.\n",
        "# ans>>\n",
        "import numpy as np\n",
        "\n",
        "# Create two arrays representing two sets of variables\n",
        "array1 = np.random.rand(50)\n",
        "array2 = np.random.rand(50)\n",
        "\n",
        "# Compute the correlation coefficient between the arrays\n",
        "correlation_coefficient = np.corrcoef(array1, array2)[0, 1]\n",
        "\n",
        "# Print the correlation coefficient\n",
        "print(\"Correlation Coefficient:\", correlation_coefficient)\n"
      ],
      "metadata": {
        "colab": {
          "base_uri": "https://localhost:8080/"
        },
        "id": "EeX9v5uJE5Ia",
        "outputId": "493990a5-9956-463f-de8e-e35c581a6574"
      },
      "execution_count": 18,
      "outputs": [
        {
          "output_type": "stream",
          "name": "stdout",
          "text": [
            "Correlation Coefficient: -0.07051773828014092\n"
          ]
        }
      ]
    },
    {
      "cell_type": "code",
      "source": [
        "# 64.Q  Create two matrices and perform matrix multiplication using NumPy's `dot` function.\n",
        "# ans>>\n",
        "import numpy as np\n",
        "\n",
        "# Create two matrices\n",
        "matrix1 = np.array([[1, 2, 3],\n",
        "                    [4, 5, 6]])\n",
        "\n",
        "matrix2 = np.array([[7, 8],\n",
        "                    [9, 10],\n",
        "                    [11, 12]])\n",
        "\n",
        "# Perform matrix multiplication\n",
        "result = np.dot(matrix1, matrix2)\n",
        "\n",
        "# Print the result\n",
        "print(\"Result of matrix multiplication:\")\n",
        "print(result)\n"
      ],
      "metadata": {
        "colab": {
          "base_uri": "https://localhost:8080/"
        },
        "id": "lO5aCOi0FO2u",
        "outputId": "7f2476f8-ba14-407d-e976-124390dc3548"
      },
      "execution_count": 19,
      "outputs": [
        {
          "output_type": "stream",
          "name": "stdout",
          "text": [
            "Result of matrix multiplication:\n",
            "[[ 58  64]\n",
            " [139 154]]\n"
          ]
        }
      ]
    },
    {
      "cell_type": "code",
      "source": [
        "# 65.Q Create an array of 50 integers between 10 and 1000. Calculate the 10th, 50th (median), and 90th percentiles along with the first and third quartiles.\n",
        "# ans>>\n",
        "import numpy as np\n",
        "\n",
        "# Create an array of 50 integers between 10 and 1000\n",
        "array = np.random.randint(10, 1001, size=50)\n",
        "\n",
        "# Calculate the percentiles and quartiles\n",
        "percentiles = np.percentile(array, [10, 25, 50, 75, 90])\n",
        "\n",
        "# Print the results\n",
        "print(\"10th percentile:\", percentiles[0])\n",
        "print(\"First quartile (25th percentile):\", percentiles[1])\n",
        "print(\"Median (50th percentile):\", percentiles[2])\n",
        "print(\"Third quartile (75th percentile):\", percentiles[3])\n",
        "print(\"90th percentile:\", percentiles[4])\n"
      ],
      "metadata": {
        "colab": {
          "base_uri": "https://localhost:8080/"
        },
        "id": "1LSuWzcjFe0m",
        "outputId": "9754bdc2-6dd8-4291-8436-79f7f21390d7"
      },
      "execution_count": 20,
      "outputs": [
        {
          "output_type": "stream",
          "name": "stdout",
          "text": [
            "10th percentile: 122.0\n",
            "First quartile (25th percentile): 324.0\n",
            "Median (50th percentile): 516.0\n",
            "Third quartile (75th percentile): 671.0\n",
            "90th percentile: 878.8000000000001\n"
          ]
        }
      ]
    },
    {
      "cell_type": "code",
      "source": [
        "#66.Q Create a NumPy array of integers and find the index of a specific element.\n",
        "# ans>>\n",
        "import numpy as np\n",
        "\n",
        "# Create a NumPy array of integers\n",
        "arr = np.array([10, 20, 30, 40, 50])\n",
        "\n",
        "# Find the index of a specific element (e.g., 30)\n",
        "# Method 1: Using np.where()\n",
        "index1 = np.where(arr == 30)[0]\n",
        "\n",
        "# Method 2: Using array indexing\n",
        "index2 = np.argmax(arr == 30)\n",
        "\n",
        "# Print the index\n",
        "print(\"Index of the element 30 (using np.where()):\", index1)\n",
        "print(\"Index of the element 30 (using array indexing):\", index2)\n"
      ],
      "metadata": {
        "colab": {
          "base_uri": "https://localhost:8080/"
        },
        "id": "jPJTxfzaF1wp",
        "outputId": "e36a2a12-2dce-43b8-824d-f099aae487e7"
      },
      "execution_count": 21,
      "outputs": [
        {
          "output_type": "stream",
          "name": "stdout",
          "text": [
            "Index of the element 30 (using np.where()): [2]\n",
            "Index of the element 30 (using array indexing): 2\n"
          ]
        }
      ]
    },
    {
      "cell_type": "code",
      "source": [
        "# 67.Q Generate a random NumPy array and sort it in ascending order.\n",
        "# ans>>\n",
        "import numpy as np\n",
        "\n",
        "# Generate a random NumPy array of shape (5, ) with values between 0 and 1\n",
        "random_array = np.random.rand(10)\n",
        "\n",
        "# Sort the array in ascending order\n",
        "sorted_array = np.sort(random_array)\n",
        "\n",
        "# Print the original and sorted arrays\n",
        "print(\"Original array:\", random_array)\n",
        "print(\"Sorted array in ascending order:\", sorted_array)\n"
      ],
      "metadata": {
        "colab": {
          "base_uri": "https://localhost:8080/"
        },
        "id": "GI97zJ9aGPRZ",
        "outputId": "a330e9fc-2f22-4ea7-d0a3-2fb6b0718298"
      },
      "execution_count": 23,
      "outputs": [
        {
          "output_type": "stream",
          "name": "stdout",
          "text": [
            "Original array: [5.20849154e-01 6.44842297e-03 2.83643023e-01 7.22803699e-01\n",
            " 4.88488982e-01 5.52703792e-01 9.54642395e-01 6.58053167e-01\n",
            " 4.75349157e-04 5.77492656e-01]\n",
            "Sorted array in ascending order: [4.75349157e-04 6.44842297e-03 2.83643023e-01 4.88488982e-01\n",
            " 5.20849154e-01 5.52703792e-01 5.77492656e-01 6.58053167e-01\n",
            " 7.22803699e-01 9.54642395e-01]\n"
          ]
        }
      ]
    },
    {
      "cell_type": "code",
      "source": [
        "# 68.Q Filter elements >20  in the given NumPy array.\n",
        "# r = np.array([12, 25, 6, 42, 8, 30])\n",
        "# ans>>\n",
        "import numpy as np\n",
        "\n",
        "# Given NumPy array\n",
        "r = np.array([12, 25, 6, 42, 8, 30])\n",
        "\n",
        "# Filter elements greater than 20\n",
        "filtered_array = r[r > 20]\n",
        "\n",
        "# Print the filtered array\n",
        "print(\"Elements greater than 20:\", filtered_array)\n"
      ],
      "metadata": {
        "colab": {
          "base_uri": "https://localhost:8080/"
        },
        "id": "MOVb-0VZJmDX",
        "outputId": "0b6e4749-3277-49ca-bb8d-d7e4c4f12831"
      },
      "execution_count": 24,
      "outputs": [
        {
          "output_type": "stream",
          "name": "stdout",
          "text": [
            "Elements greater than 20: [25 42 30]\n"
          ]
        }
      ]
    },
    {
      "cell_type": "code",
      "source": [
        "# 69.Q Filter elements which are divisible by 3 from a given NumPy array.\n",
        "# arr = np.array([1, 5, 8, 12, 15])\n",
        "# ans>.\n",
        "import numpy as np\n",
        "\n",
        "# Given NumPy array\n",
        "arr = np.array([1, 5, 8, 12, 15])\n",
        "\n",
        "# Filter elements divisible by 3\n",
        "filtered_array = arr[arr % 3 == 0]\n",
        "\n",
        "# Print the filtered array\n",
        "print(\"Elements divisible by 3:\", filtered_array)\n"
      ],
      "metadata": {
        "colab": {
          "base_uri": "https://localhost:8080/"
        },
        "id": "_pHdZRBNKlLe",
        "outputId": "a733219f-3e9a-47d2-a0e1-1a9742ae7cbc"
      },
      "execution_count": 25,
      "outputs": [
        {
          "output_type": "stream",
          "name": "stdout",
          "text": [
            "Elements divisible by 3: [12 15]\n"
          ]
        }
      ]
    },
    {
      "cell_type": "code",
      "source": [
        "# 70.Q Filter elements which are ≥ 20 and ≤ 40 from a given NumPy array.\n",
        "# arr = np.array([10, 20, 30, 40, 50])\n",
        "# ans>>\n",
        "import numpy as np\n",
        "\n",
        "# Given NumPy array\n",
        "arr = np.array([10, 20, 30, 40, 50])\n",
        "\n",
        "# Filter elements greater than or equal to 20 and less than or equal to 40\n",
        "filtered_array = arr[(arr >= 20) & (arr <= 40)]\n",
        "\n",
        "# Print the filtered array\n",
        "print(\"Elements between 20 and 40 (inclusive):\", filtered_array)\n",
        "\n"
      ],
      "metadata": {
        "colab": {
          "base_uri": "https://localhost:8080/"
        },
        "id": "Y6tQ_7w3K-b1",
        "outputId": "d9214d88-5ff8-40f1-d250-99e253959bf1"
      },
      "execution_count": 27,
      "outputs": [
        {
          "output_type": "stream",
          "name": "stdout",
          "text": [
            "Elements between 20 and 40 (inclusive): [20 30 40]\n"
          ]
        }
      ]
    },
    {
      "cell_type": "code",
      "source": [
        "# 71.Q  For the given NumPy array, check its byte order using the `dtype` attribute byteorder.\n",
        "# arr = np.array([1, 2, 3])\n",
        "# ans>>\n",
        "import numpy as np\n",
        "\n",
        "# Given NumPy array\n",
        "arr = np.array([1, 2, 3])\n",
        "\n",
        "# Check the byte order\n",
        "byte_order = arr.dtype.byteorder\n",
        "\n",
        "# Print the byte order\n",
        "print(\"Byte Order:\", byte_order)\n"
      ],
      "metadata": {
        "colab": {
          "base_uri": "https://localhost:8080/"
        },
        "id": "INDk_ktOLY-7",
        "outputId": "a2ecec0e-0e48-41ed-d98b-a2feff31c0aa"
      },
      "execution_count": 28,
      "outputs": [
        {
          "output_type": "stream",
          "name": "stdout",
          "text": [
            "Byte Order: =\n"
          ]
        }
      ]
    },
    {
      "cell_type": "code",
      "source": [
        "# 72. Q For the given NumPy array, perform byte swapping in place using `byteswap()`.\n",
        "# arr = np.array([1, 2, 3], dtype=np.int32)\n",
        "# ans>>\n",
        "import numpy as np\n",
        "\n",
        "# Given NumPy array\n",
        "arr = np.array([1, 2, 3], dtype=np.int32)\n",
        "\n",
        "# Perform byte swapping in place\n",
        "arr.byteswap(True)\n",
        "\n",
        "# Print the modified array\n",
        "print(\"Array after byte swapping:\", arr)\n"
      ],
      "metadata": {
        "colab": {
          "base_uri": "https://localhost:8080/"
        },
        "id": "ge29z80aMDZf",
        "outputId": "a0bff51a-0f35-4077-899e-3e82cb6cade1"
      },
      "execution_count": 29,
      "outputs": [
        {
          "output_type": "stream",
          "name": "stdout",
          "text": [
            "Array after byte swapping: [16777216 33554432 50331648]\n"
          ]
        }
      ]
    },
    {
      "cell_type": "code",
      "source": [
        "# 73.Q For the given NumPy array, swap its byte order without modifying the original array using `newbyteorder()`.\n",
        "# arr = np.array([1, 2, 3], dtype=np.int32)\n",
        "# ans>>\n",
        "import numpy as np\n",
        "\n",
        "# Given NumPy array\n",
        "arr = np.array([1, 2, 3], dtype=np.int32)\n",
        "\n",
        "# Swap byte order without modifying the original array\n",
        "swapped_arr = arr.newbyteorder()\n",
        "\n",
        "# Print the original and swapped arrays\n",
        "print(\"Original array:\", arr)\n",
        "print(\"Array after byte order swap:\", swapped_arr)\n"
      ],
      "metadata": {
        "colab": {
          "base_uri": "https://localhost:8080/"
        },
        "id": "FF6uhMhuMwQ2",
        "outputId": "c4c72432-6f84-43b1-c89e-f8949464ccfd"
      },
      "execution_count": 30,
      "outputs": [
        {
          "output_type": "stream",
          "name": "stdout",
          "text": [
            "Original array: [1 2 3]\n",
            "Array after byte order swap: [16777216 33554432 50331648]\n"
          ]
        }
      ]
    },
    {
      "cell_type": "code",
      "source": [
        "# 74. Q For the given NumPy array and swap its byte order conditionally based on system endianness using attribute `byteorder`.\n",
        "# arr = np.array([1, 2, 3], dtype=np.int32)\n",
        "# ans>>\n",
        "import numpy as np\n",
        "\n",
        "# Given NumPy array\n",
        "arr = np.array([1, 2, 3], dtype=np.int32)\n",
        "\n",
        "# Check the system endianness\n",
        "system_endianness = arr.dtype.byteorder\n",
        "\n",
        "# Swap byte order conditionally based on system endianness\n",
        "if system_endianness != '=':\n",
        "    swapped_arr = arr.newbyteorder()\n",
        "else:\n",
        "    swapped_arr = arr\n",
        "\n",
        "# Print the original and swapped arrays\n",
        "print(\"Original array:\", arr)\n",
        "print(\"Array after conditional byte order swap based on system endianness:\", swapped_arr)\n"
      ],
      "metadata": {
        "colab": {
          "base_uri": "https://localhost:8080/"
        },
        "id": "b7AVW6sHNHi1",
        "outputId": "310a5c8c-8e03-427a-ed0d-984ec0c3a2e9"
      },
      "execution_count": 31,
      "outputs": [
        {
          "output_type": "stream",
          "name": "stdout",
          "text": [
            "Original array: [1 2 3]\n",
            "Array after conditional byte order swap based on system endianness: [1 2 3]\n"
          ]
        }
      ]
    },
    {
      "cell_type": "code",
      "source": [
        "# 75.Q For the given NumPy array, check if byte swapping is necessary for the current system using `dtype` attribute `byteorder`.\n",
        "# arr = np.array([1, 2, 3], dtype=np.int32)\n",
        "# ans>>\n",
        "import numpy as np\n",
        "\n",
        "# Given NumPy array\n",
        "arr = np.array([1, 2, 3], dtype=np.int32)\n",
        "\n",
        "# Check if byte swapping is necessary\n",
        "byte_order = arr.dtype.byteorder\n",
        "byte_swapping_needed = byte_order != '='\n",
        "\n",
        "# Print the result\n",
        "if byte_swapping_needed:\n",
        "    print(\"Byte swapping is necessary for the current system.\")\n",
        "else:\n",
        "    print(\"Byte swapping is not necessary for the current system.\")\n"
      ],
      "metadata": {
        "colab": {
          "base_uri": "https://localhost:8080/"
        },
        "id": "dt1cm5MPNoCp",
        "outputId": "55ddd227-fc41-4573-c21c-4762b4d752cc"
      },
      "execution_count": 33,
      "outputs": [
        {
          "output_type": "stream",
          "name": "stdout",
          "text": [
            "Byte swapping is not necessary for the current system.\n"
          ]
        }
      ]
    },
    {
      "cell_type": "code",
      "source": [
        "# 76.Q Create a NumPy array `arr1` with values from 1 to 10. Create a copy of `arr1` named `copy_arr` and modify\n",
        "# an element in `copy_arr`. Check if modifying `copy_arr` affects `arr1`.\n",
        "# ans>>\n",
        "import numpy as np\n",
        "\n",
        "# Create arr1 with values from 1 to 10\n",
        "arr1 = np.arange(1, 11)\n",
        "\n",
        "# Create a copy of arr1\n",
        "copy_arr = arr1.copy()\n",
        "\n",
        "# Modify an element in copy_arr\n",
        "copy_arr[0] = 100\n",
        "\n",
        "# Check if modifying copy_arr affects arr1\n",
        "print(\"Original array (arr1):\", arr1)\n",
        "print(\"Modified copy array (copy_arr):\", copy_arr)\n",
        "\n"
      ],
      "metadata": {
        "colab": {
          "base_uri": "https://localhost:8080/"
        },
        "id": "MH8qK-SLNzyR",
        "outputId": "f3a7a3a3-0dff-40f3-c94c-ab5f20355915"
      },
      "execution_count": 34,
      "outputs": [
        {
          "output_type": "stream",
          "name": "stdout",
          "text": [
            "Original array (arr1): [ 1  2  3  4  5  6  7  8  9 10]\n",
            "Modified copy array (copy_arr): [100   2   3   4   5   6   7   8   9  10]\n"
          ]
        }
      ]
    },
    {
      "cell_type": "code",
      "source": [
        "# 77.Q Create a 2D NumPy array `matrix` of shape (3, 3) with random integers. Extract a slice `view_slice` from\n",
        "# the matrix. Modify an element in `view_slice` and observe if it changes the original `matrix`.\n",
        "# ans>>\n",
        "import numpy as np\n",
        "\n",
        "# Create a 2D NumPy array of shape (3, 3) with random integers\n",
        "matrix = np.random.randint(1, 10, size=(3, 3))\n",
        "\n",
        "# Extract a slice from the matrix\n",
        "view_slice = matrix[:2, :2]\n",
        "\n",
        "# Modify an element in view_slice\n",
        "view_slice[0, 0] = 100\n",
        "\n",
        "# Print the original matrix and the modified slice\n",
        "print(\"Original matrix:\")\n",
        "print(matrix)\n",
        "print(\"\\nModified slice:\")\n",
        "print(view_slice)\n"
      ],
      "metadata": {
        "colab": {
          "base_uri": "https://localhost:8080/"
        },
        "id": "wGXulAtbOUff",
        "outputId": "a6b83d16-ed3d-4626-c443-f574a09c8787"
      },
      "execution_count": 35,
      "outputs": [
        {
          "output_type": "stream",
          "name": "stdout",
          "text": [
            "Original matrix:\n",
            "[[100   2   1]\n",
            " [  5   2   6]\n",
            " [  9   3   1]]\n",
            "\n",
            "Modified slice:\n",
            "[[100   2]\n",
            " [  5   2]]\n"
          ]
        }
      ]
    },
    {
      "cell_type": "code",
      "source": [
        "# 78.Q Create a NumPy array `array_a` of shape (4, 3) with sequential integers from 1 to 12. Extract a slice\n",
        "# `view_b` from `array_a` and broadcast the addition of 5 to view_b. Check if it alters the original `array_a`.\n",
        "\n",
        "# ans>>\n",
        "import numpy as np\n",
        "\n",
        "# Create a NumPy array of shape (4, 3) with sequential integers from 1 to 12\n",
        "array_a = np.arange(1, 13).reshape(4, 3)\n",
        "\n",
        "# Extract a slice from array_a\n",
        "view_b = array_a[:2, :2]\n",
        "\n",
        "# Broadcast the addition of 5 to view_b\n",
        "view_b += 5\n",
        "\n",
        "# Print the original array_a and the modified view_b\n",
        "print(\"Original array_a:\")\n",
        "print(array_a)\n",
        "print(\"\\nModified view_b:\")\n",
        "print(view_b)\n"
      ],
      "metadata": {
        "colab": {
          "base_uri": "https://localhost:8080/"
        },
        "id": "yXJjCSoVOnxA",
        "outputId": "a221f062-aba0-4258-eade-a28730215c92"
      },
      "execution_count": 36,
      "outputs": [
        {
          "output_type": "stream",
          "name": "stdout",
          "text": [
            "Original array_a:\n",
            "[[ 6  7  3]\n",
            " [ 9 10  6]\n",
            " [ 7  8  9]\n",
            " [10 11 12]]\n",
            "\n",
            "Modified view_b:\n",
            "[[ 6  7]\n",
            " [ 9 10]]\n"
          ]
        }
      ]
    },
    {
      "cell_type": "code",
      "source": [
        "# 79.Q Create a NumPy array `orig_array` of shape (2, 4) with values from 1 to 8. Create a reshaped view\n",
        "# `reshaped_view` of shape (4, 2) from orig_array. Modify an element in `reshaped_view` and check if it reflects changes in the original `orig_array`.\n",
        "\n",
        "# ans>>\n",
        "import numpy as np\n",
        "\n",
        "# Create a NumPy array of shape (2, 4) with values from 1 to 8\n",
        "orig_array = np.arange(1, 9).reshape(2, 4)\n",
        "\n",
        "# Create a reshaped view of shape (4, 2) from orig_array\n",
        "reshaped_view = orig_array.reshape(4, 2)\n",
        "\n",
        "# Modify an element in reshaped_view\n",
        "reshaped_view[0, 0] = 100\n",
        "\n",
        "# Print the original orig_array and the modified reshaped_view\n",
        "print(\"Original orig_array:\")\n",
        "print(orig_array)\n",
        "print(\"\\nModified reshaped_view:\")\n",
        "print(reshaped_view)\n"
      ],
      "metadata": {
        "colab": {
          "base_uri": "https://localhost:8080/"
        },
        "id": "RzHOAPRGO67X",
        "outputId": "12130fd8-dc05-4237-828e-34ebfcbba1ef"
      },
      "execution_count": 37,
      "outputs": [
        {
          "output_type": "stream",
          "name": "stdout",
          "text": [
            "Original orig_array:\n",
            "[[100   2   3   4]\n",
            " [  5   6   7   8]]\n",
            "\n",
            "Modified reshaped_view:\n",
            "[[100   2]\n",
            " [  3   4]\n",
            " [  5   6]\n",
            " [  7   8]]\n"
          ]
        }
      ]
    },
    {
      "cell_type": "code",
      "source": [
        "# 80.Q Create a NumPy array `data` of shape (3, 4) with random integers. Extract a copy `data_copy` of\n",
        "# elements greater than 5. Modify an element in `data_copy` and verify if it affects the original `data`.\n",
        "\n",
        "# ans>>\n",
        "import numpy as np\n",
        "\n",
        "# Create a NumPy array of shape (3, 4) with random integers\n",
        "data = np.random.randint(1, 10, size=(3, 4))\n",
        "\n",
        "# Extract a copy of elements greater than 5\n",
        "data_copy = data[data > 5].copy()\n",
        "\n",
        "# Modify an element in data_copy\n",
        "data_copy[0] = 100\n",
        "\n",
        "# Print both the original data and the modified data_copy\n",
        "print(\"Original data:\")\n",
        "print(data)\n",
        "print(\"\\nModified data_copy:\")\n",
        "print(data_copy)\n"
      ],
      "metadata": {
        "colab": {
          "base_uri": "https://localhost:8080/"
        },
        "id": "MYSfaq_0PQ4v",
        "outputId": "908bf7af-a781-479a-ccf1-ae2ef9855282"
      },
      "execution_count": 44,
      "outputs": [
        {
          "output_type": "stream",
          "name": "stdout",
          "text": [
            "Original data:\n",
            "[[5 9 5 5]\n",
            " [4 4 2 6]\n",
            " [8 4 8 7]]\n",
            "\n",
            "Modified data_copy:\n",
            "[100   6   8   8   7]\n"
          ]
        }
      ]
    },
    {
      "cell_type": "code",
      "source": [
        "# 81.Q Create two matrices A and B of identical shape containing integers and perform addition and subtraction operations between them.\n",
        "# ans>>\n",
        "import numpy as np\n",
        "\n",
        "# Create matrices A and B with identical shape containing integers\n",
        "A = np.array([[1, 2, 3],\n",
        "              [4, 5, 6]])\n",
        "\n",
        "B = np.array([[7, 8, 9],\n",
        "              [10, 11, 12]])\n",
        "\n",
        "# Perform addition between matrices A and B\n",
        "addition_result = A + B\n",
        "\n",
        "# Perform subtraction between matrices A and B\n",
        "subtraction_result = A - B\n",
        "\n",
        "# Print the results\n",
        "print(\"Matrix A:\")\n",
        "print(A)\n",
        "print(\"\\nMatrix B:\")\n",
        "print(B)\n",
        "print(\"\\nAddition result:\")\n",
        "print(addition_result)\n",
        "print(\"\\nSubtraction result:\")\n",
        "print(subtraction_result)\n"
      ],
      "metadata": {
        "colab": {
          "base_uri": "https://localhost:8080/"
        },
        "id": "OPqXsK8pPiUW",
        "outputId": "fb346701-18e6-42e0-f278-4b67afa90efc"
      },
      "execution_count": 45,
      "outputs": [
        {
          "output_type": "stream",
          "name": "stdout",
          "text": [
            "Matrix A:\n",
            "[[1 2 3]\n",
            " [4 5 6]]\n",
            "\n",
            "Matrix B:\n",
            "[[ 7  8  9]\n",
            " [10 11 12]]\n",
            "\n",
            "Addition result:\n",
            "[[ 8 10 12]\n",
            " [14 16 18]]\n",
            "\n",
            "Subtraction result:\n",
            "[[-6 -6 -6]\n",
            " [-6 -6 -6]]\n"
          ]
        }
      ]
    },
    {
      "cell_type": "code",
      "source": [
        "# 82.Q Generate two matrices `C` (3x2) and `D` (2x4) and perform matrix multiplication.\n",
        "# ans>>\n",
        "import numpy as np\n",
        "\n",
        "# Generate matrices C (3x2) and D (2x4)\n",
        "C = np.array([[1, 2],\n",
        "              [3, 4],\n",
        "              [5, 6]])\n",
        "\n",
        "D = np.array([[7, 8, 9, 10],\n",
        "              [11, 12, 13, 14]])\n",
        "\n",
        "# Perform matrix multiplication\n",
        "multiplication_result = np.dot(C, D)\n",
        "\n",
        "# Print the result\n",
        "print(\"Matrix C:\")\n",
        "print(C)\n",
        "print(\"\\nMatrix D:\")\n",
        "print(D)\n",
        "print(\"\\nMultiplication result:\")\n",
        "print(multiplication_result)\n"
      ],
      "metadata": {
        "colab": {
          "base_uri": "https://localhost:8080/"
        },
        "id": "xZ9MqsdmR1Qp",
        "outputId": "ecc49411-f925-4ebb-d88a-8292d0458479"
      },
      "execution_count": 46,
      "outputs": [
        {
          "output_type": "stream",
          "name": "stdout",
          "text": [
            "Matrix C:\n",
            "[[1 2]\n",
            " [3 4]\n",
            " [5 6]]\n",
            "\n",
            "Matrix D:\n",
            "[[ 7  8  9 10]\n",
            " [11 12 13 14]]\n",
            "\n",
            "Multiplication result:\n",
            "[[ 29  32  35  38]\n",
            " [ 65  72  79  86]\n",
            " [101 112 123 134]]\n"
          ]
        }
      ]
    },
    {
      "cell_type": "code",
      "source": [
        "# 83.Q  Create a matrix `E` and find its transpose.\n",
        "# ans>>\n",
        "import numpy as np\n",
        "\n",
        "# Create a matrix E\n",
        "E = np.array([[1, 2, 3],\n",
        "              [4, 5, 6]])\n",
        "\n",
        "# Find the transpose of matrix E\n",
        "E_transpose = np.transpose(E)\n",
        "\n",
        "# Print the original matrix and its transpose\n",
        "print(\"Matrix E:\")\n",
        "print(E)\n",
        "print(\"\\nTranspose of matrix E:\")\n",
        "print(E_transpose)\n"
      ],
      "metadata": {
        "colab": {
          "base_uri": "https://localhost:8080/"
        },
        "id": "jdX2TOjSSCRE",
        "outputId": "e558034a-8c10-43cb-c5ed-0d5101e5d259"
      },
      "execution_count": 47,
      "outputs": [
        {
          "output_type": "stream",
          "name": "stdout",
          "text": [
            "Matrix E:\n",
            "[[1 2 3]\n",
            " [4 5 6]]\n",
            "\n",
            "Transpose of matrix E:\n",
            "[[1 4]\n",
            " [2 5]\n",
            " [3 6]]\n"
          ]
        }
      ]
    },
    {
      "cell_type": "code",
      "source": [
        "# 84.Q  Generate a square matrix `F` and compute its determinant.\n",
        "# ans>>\n",
        "import numpy as np\n",
        "\n",
        "# Generate a square matrix F\n",
        "F = np.array([[1, 2, 3],\n",
        "              [4, 5, 6],\n",
        "              [7, 8, 9]])\n",
        "\n",
        "# Compute the determinant of matrix F\n",
        "determinant_F = np.linalg.det(F)\n",
        "\n",
        "# Print the matrix F and its determinant\n",
        "print(\"Matrix F:\")\n",
        "print(F)\n",
        "print(\"\\nDeterminant of matrix F:\", determinant_F)\n"
      ],
      "metadata": {
        "colab": {
          "base_uri": "https://localhost:8080/"
        },
        "id": "9Ts0NNDRSPqc",
        "outputId": "3abda44b-8739-4d9a-f56b-fe04ca2c249e"
      },
      "execution_count": 48,
      "outputs": [
        {
          "output_type": "stream",
          "name": "stdout",
          "text": [
            "Matrix F:\n",
            "[[1 2 3]\n",
            " [4 5 6]\n",
            " [7 8 9]]\n",
            "\n",
            "Determinant of matrix F: 0.0\n"
          ]
        }
      ]
    },
    {
      "cell_type": "code",
      "source": [
        "# 85.Q  Create a square matrix `G` and find its inverse.\n",
        "# ans>>\n",
        "import numpy as np\n",
        "\n",
        "# Create a square matrix G\n",
        "G = np.array([[1, 2],\n",
        "              [3, 4]])\n",
        "\n",
        "# Find the inverse of matrix G\n",
        "inverse_G = np.linalg.inv(G)\n",
        "\n",
        "# Print the matrix G and its inverse\n",
        "print(\"Matrix G:\")\n",
        "print(G)\n",
        "print(\"\\nInverse of matrix G:\")\n",
        "print(inverse_G)\n"
      ],
      "metadata": {
        "colab": {
          "base_uri": "https://localhost:8080/"
        },
        "id": "eVyDi6S7Seoz",
        "outputId": "73c19284-4a9f-4251-cfc7-cff9883f8a37"
      },
      "execution_count": 49,
      "outputs": [
        {
          "output_type": "stream",
          "name": "stdout",
          "text": [
            "Matrix G:\n",
            "[[1 2]\n",
            " [3 4]]\n",
            "\n",
            "Inverse of matrix G:\n",
            "[[-2.   1. ]\n",
            " [ 1.5 -0.5]]\n"
          ]
        }
      ]
    },
    {
      "cell_type": "code",
      "source": [],
      "metadata": {
        "id": "EDZG4QNzStlk"
      },
      "execution_count": null,
      "outputs": []
    }
  ]
}